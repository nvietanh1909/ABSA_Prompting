{
 "cells": [
  {
   "cell_type": "code",
   "execution_count": 14,
   "id": "39d4590a",
   "metadata": {},
   "outputs": [],
   "source": [
    "from os import path\n",
    "import pandas as pd\n",
    "import json\n",
    "import requests\n",
    "from tqdm import tqdm\n",
    "from dotenv import load_dotenv\n",
    "import os\n",
    "\n",
    "# Định nghĩa đường dẫn\n",
    "DATA_DIR = r\"c:\\Users\\Admin\\Python\\ABSA_Prompting\\data\"\n",
    "RESULT_DIR = r\"c:\\Users\\Admin\\Python\\ABSA_Prompting\\results\"\n",
    "os.makedirs(DATA_DIR, exist_ok=True)\n",
    "os.makedirs(RESULT_DIR, exist_ok=True)"
   ]
  },
  {
   "cell_type": "code",
   "execution_count": 15,
   "id": "fed42dac",
   "metadata": {},
   "outputs": [
    {
     "data": {
      "text/plain": [
       "True"
      ]
     },
     "execution_count": 15,
     "metadata": {},
     "output_type": "execute_result"
    }
   ],
   "source": [
    "load_dotenv()"
   ]
  },
  {
   "cell_type": "code",
   "execution_count": 16,
   "id": "06802b2e",
   "metadata": {},
   "outputs": [],
   "source": [
    "# CONFIG\n",
    "ViABSA_BP_dir = path.join(DATA_DIR, 'ViABSA_Restaurant')\n",
    "test_file = path.join(ViABSA_BP_dir, 'data_test.csv')\n",
    "test_df = pd.read_csv(test_file)"
   ]
  },
  {
   "cell_type": "code",
   "execution_count": 17,
   "id": "358ec53c",
   "metadata": {},
   "outputs": [],
   "source": [
    "aspects = [\n",
    "   \"AMBIENCE#GENERAL\",\n",
    "   \"DRINKS#PRICES\",\n",
    "   \"DRINKS#QUALITY\",\n",
    "   \"DRINKS#STYLE&OPTIONS\",\n",
    "   \"FOOD#PRICES\",\n",
    "   \"FOOD#QUALITY\",\n",
    "   \"FOOD#STYLE&OPTIONS\",\n",
    "   \"LOCATION#GENERAL\",\n",
    "   \"RESTAURANT#GENERAL\",\n",
    "   \"RESTAURANT#MISCELLANEOUS\",\n",
    "   \"RESTAURANT#PRICES\",\n",
    "   \"SERVICE#GENERAL\"\n",
    "]"
   ]
  },
  {
   "cell_type": "code",
   "execution_count": 18,
   "id": "15f6f02c",
   "metadata": {},
   "outputs": [],
   "source": [
    "sentiment_map = {\n",
    "    1: \"positive\",\n",
    "    2: \"negative\",\n",
    "    3: \"neutral\"\n",
    "}\n",
    "\n",
    "def transform_aspect_sentiment(df, start=0, end=None):\n",
    "    result = [] \n",
    "    \n",
    "    if end is None:\n",
    "        end = len(df)\n",
    "\n",
    "    for idx, row in df.iloc[start:end].iterrows():\n",
    "        entry = {\n",
    "            \"id\": str(idx),\n",
    "            \"text\": row['Review'],\n",
    "            \"sentiments\": []\n",
    "        }\n",
    "\n",
    "        for aspect in aspects:\n",
    "            sentiment = row[f\"{aspect}_label\"]\n",
    "            if sentiment == 1:  # chỉ lấy những cái có sentiment\n",
    "                aspect_sentiment_value = row[aspect]\n",
    "                mapped_sent = sentiment_map.get(aspect_sentiment_value, \"unknown\")\n",
    "                if aspect_sentiment_value != 'none':\n",
    "                    entry[\"sentiments\"].append({\n",
    "                        \"aspect\": aspect,\n",
    "                        \"sentiment\": mapped_sent\n",
    "                    })\n",
    "                else:\n",
    "                    # nếu cột sentiment text bị none nhưng label == 1 thì có thể log ra kiểm tra\n",
    "                    entry[\"sentiments\"].append({\n",
    "                        \"aspect\": aspect,\n",
    "                        \"sentiment\": \"unknown\"\n",
    "                    })\n",
    "\n",
    "        result.append(entry)\n",
    "\n",
    "    return result"
   ]
  },
  {
   "cell_type": "code",
   "execution_count": 19,
   "id": "d9b6141c",
   "metadata": {},
   "outputs": [
    {
     "data": {
      "text/plain": [
       "[{'id': '0',\n",
       "  'text': 'Đây là 1 trong những quán mà mình thích vì vị trà đậm và thơm cũng như mùi vị đặc trưng hơn hẳn những quán khác nè  Trà sữa trân châu sợi - 46k Trà sữa pha khá ngon, vị trà chát và mùi hương khá rõ, không quá ngọt, rất đúng với gu mình  Trà đào - 45k Vị trà đào ở đây cũng đặc biệt hơn hẳn những quán khác, không phải chua ngọt như thưởng thấy mà có mùi trà rất ngon  Cà phê đá xay - 65k Món đá xay ở đây uống cũng ngon không kém trà nè, mùi vị thơm hương cà phê, vị đắng kết hợp hoàn hảo với độ béo ngọt của whipping cream, không quá đắng, cũng không quá ngọt hay lạt lẽo mà dịu nhẹ, thơm và dễ uống lắm  Trà vải thiết quan âm - 45k Trà vải có mùi vị rất thơm ngon mùi vải mà vẫn nghe rõ vị trà, có chút vị chát nhẹ mùi trà thơm rất thích, không phải chỉ toàn vị syrup vải ngọt gắt như nhiều chỗ khác. Do trà ở đây pha khá đậm nên bạn nào uống mà đang đói sẽ dễ say nha, hoặc ban đêm có thể khó ngủ à, cảnh báo trước  Trà thiết quan âm latte - 47k Ly này thì vị trà rất đậm nên cảm giác hơi nhạt và chát, phần kem sữa bên trên béo béo uống chung thì vừa  Trà sữa 101 - 52k Ly này chụp ké chứ không có thử :v',\n",
       "  'sentiments': [{'aspect': 'DRINKS#PRICES', 'sentiment': 'neutral'},\n",
       "   {'aspect': 'DRINKS#QUALITY', 'sentiment': 'positive'},\n",
       "   {'aspect': 'DRINKS#STYLE&OPTIONS', 'sentiment': 'neutral'},\n",
       "   {'aspect': 'RESTAURANT#GENERAL', 'sentiment': 'positive'}]},\n",
       " {'id': '1',\n",
       "  'text': 'Bữa lướt facebook nhỏ bạn thấy có check-in ly trà sữa khổng lồ cùng viên phô mai to ú nụ. Mình bị hấp dẫn trong ngày từ cái nhìn đầu tiên nên đòi anh người yêu chở đi mua cho bằng được hihi. TRÀ SỮA 1ST TEA đ/c: 60D Nguyễn Thông, Q3 (ngay ngã 3 Kỳ Đồng và Nguyễn Thông) Mở cửa: 8h - 22h Facebook: 1ST TEA   Đây là ly size khổng lồ của quán. Dung tích theo mình nghĩ cỡ 1 lít chứ chẳng chơi. Hai đứa muốn ngập mặt tại chỗ.  Mình nói là ngon lắm nhưng không nghe. Tới khi ly trà sữa xuất hiện cùng 2 viên phô mai to ú nụ thì tranh giành check-in đầu tiên cho bằng được :))  Như mọi người thấy viên phô mai của quán to hơn bất kỳ quán nào khác. 1 viên theo mình nhớ giá chỉ có 9k thôi.  Với ly khổng lồ thì có mặc định sẵn có trân châu, muốn ăn thêm thạch khác có thể order thêm.  Mình tán mục sở thị viên phô mai cho mọi người thấy độ ú nụ dễ thương của em ấy. Việc múc bằng muỗng để múc phô mai khó lắm nha, to và nặng quá mà. Phô mai quán làm thơm vị sữa tươi và chút vị béo nhẹ. Ăn hoài không ngán. Ăn ngon tụi mình còn mua mỗi đứa thêm 1 viên nữa hihi. Noel không cần đi đâu quá xa, cứ như tụi mình làm ly trà sữa thơm ngon cùng viên phô mai tròn béo này là đủ hạnh phúc với 2 đứa rồi ahihi!',\n",
       "  'sentiments': [{'aspect': 'DRINKS#QUALITY', 'sentiment': 'positive'},\n",
       "   {'aspect': 'DRINKS#STYLE&OPTIONS', 'sentiment': 'positive'},\n",
       "   {'aspect': 'FOOD#PRICES', 'sentiment': 'positive'},\n",
       "   {'aspect': 'FOOD#QUALITY', 'sentiment': 'positive'},\n",
       "   {'aspect': 'FOOD#STYLE&OPTIONS', 'sentiment': 'positive'},\n",
       "   {'aspect': 'LOCATION#GENERAL', 'sentiment': 'neutral'},\n",
       "   {'aspect': 'RESTAURANT#MISCELLANEOUS', 'sentiment': 'neutral'}]},\n",
       " {'id': '2',\n",
       "  'text': 'Nghe phông phanh về trà sữa có viên phô mai to ú ù lâu rồi mà chưa có dịp đi thử. Thế là hôm qua cũng rảnh rỗi nên rủ tụi ‘cạ cứng’ đi uống thử. Đoán là viên phô mai chắc cũng to to, ai dè to thật, ăn một phát mà muốn ghiền luôn!  1st Tea 1st Tea trang trí chủ đạo là 3 tông màu trắng-xanh-vàng rất dễ thương Hình vẽ hoạt hình vui nhộn  … và dành hẳn cho bạn một góc chụp hình check-in   Menu quán khá đa dạng, phong phú, có các loại nước như: trà, trà sữa, macchiato, đá xay,… mà giá thì chỉ dao động từ 21K – 44K thôi. Tùy size, tùy loại nước uống mà bạn sẽ nhận được ly khác nhau, nhưng mà size nào thì ly cũng to cả Trà sữa phô mai ú ù – size M: 36K Mình thì mình ưng phô mai nên mình oder một ly trà sữa trân châu có viên phô mai bự-chà-bá. Thạch trân chân hoàng kim dai dai thơm thơm, trà sữa rất vừa uống. Matcha Macchiato – size M: 34K Việt quất phô mai đá xay – size S: 37K Nói là size S vậy thôi chứ ‘quất’ 1 ly thôi là no-cành-hông rồi đó. Nhóm tụi mình uống 4 ly mà chỉ có 143K thôi. Nhìn chung, so với mặt bằng chung trên thị trường trà sữa hiện nay thì giá như thế này là hợp lý lắm luôn! Mình với tụi bạn kết quán này lắm, cuối tuần tụ tập hoặc tấp vào trốn nắng một xíu thôi cũng thấy thoải mái rồi. Nhất định, mình sẽ ghé 1st Tea lần nữa, có ai đi với mình không ta?',\n",
       "  'sentiments': [{'aspect': 'AMBIENCE#GENERAL', 'sentiment': 'positive'},\n",
       "   {'aspect': 'DRINKS#PRICES', 'sentiment': 'positive'},\n",
       "   {'aspect': 'DRINKS#QUALITY', 'sentiment': 'positive'},\n",
       "   {'aspect': 'DRINKS#STYLE&OPTIONS', 'sentiment': 'positive'},\n",
       "   {'aspect': 'FOOD#STYLE&OPTIONS', 'sentiment': 'positive'},\n",
       "   {'aspect': 'RESTAURANT#GENERAL', 'sentiment': 'positive'}]},\n",
       " {'id': '3',\n",
       "  'text': 'Lại là mình tín đồ nghiện trà sữa đây, thấy quán trà sữa này có bán viên phô mai to ú nù nghe hấp dẫn quá chừng nên đi uống liền. Quán nằm ngay trung tâm giá cũng mềm, trang trí dễ thương, nhân viên nhiệt tình   Menu quán đơn giản chỉ vài món giá cũng rẻ so với mặt bằng trung tâm   Ly trà sữa 20k thêm phômai ú nù 15k  Phô mai ú nù siêu bự :)) thật ra như cục pudding hơn  Mùi béo thơm nhưng ko nghe mùi phômai đậm mà nghe mùi vani trứng, cũng ngon chứ ko dở  Trân châu hoàng kim 5k mềm thơm, vị trà sữa uống cũng được ko quá ngọt bình thường như những quán khác, nước nhiều đá ít nha  Trà đen macchiato 25k trà đậm ít đường ko ngọt lắm  Milkfoam bên trên ngon nè xài kem whipping đánh ra luôn nha, ngọt béo chứ ko phải mặn mình khá thích   Quán decor đơn giản tông vàng ấm áp Chúc các bạn ăn ngon miệng.',\n",
       "  'sentiments': [{'aspect': 'AMBIENCE#GENERAL', 'sentiment': 'positive'},\n",
       "   {'aspect': 'DRINKS#QUALITY', 'sentiment': 'positive'},\n",
       "   {'aspect': 'DRINKS#STYLE&OPTIONS', 'sentiment': 'neutral'},\n",
       "   {'aspect': 'FOOD#QUALITY', 'sentiment': 'positive'},\n",
       "   {'aspect': 'FOOD#STYLE&OPTIONS', 'sentiment': 'positive'},\n",
       "   {'aspect': 'LOCATION#GENERAL', 'sentiment': 'positive'},\n",
       "   {'aspect': 'RESTAURANT#PRICES', 'sentiment': 'positive'},\n",
       "   {'aspect': 'SERVICE#GENERAL', 'sentiment': 'positive'}]},\n",
       " {'id': '4',\n",
       "  'text': 'Không gian quán sang trọng khá đẹp mang phong cách Châu Âu, giá cả lại khá rẻ và món ăn cũng rất ngon, các món ăn được trang trí nhìn rất hấp dẫn, nhân viên phục vụ rất tốt.',\n",
       "  'sentiments': [{'aspect': 'AMBIENCE#GENERAL', 'sentiment': 'positive'},\n",
       "   {'aspect': 'FOOD#QUALITY', 'sentiment': 'positive'},\n",
       "   {'aspect': 'FOOD#STYLE&OPTIONS', 'sentiment': 'positive'},\n",
       "   {'aspect': 'RESTAURANT#PRICES', 'sentiment': 'positive'},\n",
       "   {'aspect': 'SERVICE#GENERAL', 'sentiment': 'positive'}]}]"
      ]
     },
     "execution_count": 19,
     "metadata": {},
     "output_type": "execute_result"
    }
   ],
   "source": [
    "# SETUP DATA\n",
    "test_df[aspects] = test_df[aspects].fillna('none')\n",
    "\n",
    "for aspect in aspects:\n",
    "    test_df[aspect + '_label'] = (test_df[aspect] != 0).astype(int)\n",
    "\n",
    "test_json = transform_aspect_sentiment(test_df, 0, 100)\n",
    "test_json[:5]"
   ]
  },
  {
   "cell_type": "code",
   "execution_count": 20,
   "id": "43e21e8a",
   "metadata": {},
   "outputs": [],
   "source": [
    "def evaluate_aspect_sentiment(ground_truth, predictions):\n",
    "    # Chuẩn hóa dữ liệu thành list các tuple để so sánh\n",
    "    true_aspects = []\n",
    "    pred_aspects = []\n",
    "\n",
    "    true_aspect_sentiments = []\n",
    "    pred_aspect_sentiments = []\n",
    "\n",
    "    for gt_entry, pred_entry in zip(ground_truth, predictions):\n",
    "        # ground truth: list of sentiments\n",
    "        gt_sents = gt_entry['sentiments']\n",
    "        gt_aspect_set = set()\n",
    "        gt_aspect_sentiment_set = set()\n",
    "\n",
    "        for item in gt_sents:\n",
    "            gt_aspect_set.add(item['aspect'])\n",
    "            gt_aspect_sentiment_set.add((item['aspect'], item['sentiment']))\n",
    "\n",
    "        true_aspects.append(gt_aspect_set)\n",
    "        true_aspect_sentiments.append(gt_aspect_sentiment_set)\n",
    "\n",
    "        # prediction: list of results\n",
    "        pred_sents = pred_entry['results']\n",
    "        pred_aspect_set = set()\n",
    "        pred_aspect_sentiment_set = set()\n",
    "\n",
    "        for item in pred_sents:\n",
    "            pred_aspect_set.add(item['aspect'])\n",
    "            pred_aspect_sentiment_set.add((item['aspect'], item['sentiment']))\n",
    "\n",
    "        pred_aspects.append(pred_aspect_set)\n",
    "        pred_aspect_sentiments.append(pred_aspect_sentiment_set)\n",
    "\n",
    "    # Tính theo micro-F1 (gộp hết lại)\n",
    "    all_true_aspects = set.union(*true_aspects) if true_aspects else set()\n",
    "    all_pred_aspects = set.union(*pred_aspects) if pred_aspects else set()\n",
    "\n",
    "    tp_aspect = sum(len(gt & pred) for gt, pred in zip(true_aspects, pred_aspects))\n",
    "    fp_aspect = sum(len(pred - gt) for gt, pred in zip(true_aspects, pred_aspects))\n",
    "    fn_aspect = sum(len(gt - pred) for gt, pred in zip(true_aspects, pred_aspects))\n",
    "\n",
    "    precision_aspect = tp_aspect / (tp_aspect + fp_aspect + 1e-8)\n",
    "    recall_aspect = tp_aspect / (tp_aspect + fn_aspect + 1e-8)\n",
    "    f1_aspect = 2 * precision_aspect * recall_aspect / (precision_aspect + recall_aspect + 1e-8)\n",
    "\n",
    "    # Tính cho sentiment classification\n",
    "    tp_sentiment = sum(len(gt & pred) for gt, pred in zip(true_aspect_sentiments, pred_aspect_sentiments))\n",
    "    fp_sentiment = sum(len(pred - gt) for gt, pred in zip(true_aspect_sentiments, pred_aspect_sentiments))\n",
    "    fn_sentiment = sum(len(gt - pred) for gt, pred in zip(true_aspect_sentiments, pred_aspect_sentiments))\n",
    "\n",
    "    precision_sentiment = tp_sentiment / (tp_sentiment + fp_sentiment + 1e-8)\n",
    "    recall_sentiment = tp_sentiment / (tp_sentiment + fn_sentiment + 1e-8)\n",
    "    f1_sentiment = 2 * precision_sentiment * recall_sentiment / (precision_sentiment + recall_sentiment + 1e-8)\n",
    "\n",
    "    return {\n",
    "        \"Aspect Detection F1\": f1_aspect,\n",
    "        \"Sentiment Classification F1\": f1_sentiment\n",
    "    }\n"
   ]
  },
  {
   "cell_type": "code",
   "execution_count": 21,
   "id": "578e73ff",
   "metadata": {},
   "outputs": [],
   "source": [
    "gpt_functions = [\n",
    "    {\n",
    "        \"name\": \"extract_aspect_sentiment\",\n",
    "        \"description\": \"Extract aspects and sentiments from text, Think step by step exactly\",\n",
    "        \"parameters\": {\n",
    "            \"type\": \"object\",\n",
    "            \"properties\": {\n",
    "                \"results\": {\n",
    "                    \"type\": \"array\",\n",
    "                    \"items\": {\n",
    "                        \"type\": \"object\",\n",
    "                        \"properties\": {\n",
    "                            \"aspect\": {\n",
    "                                \"type\": \"string\",\n",
    "                                \"enum\": aspects\n",
    "                            },\n",
    "                            \"sentiment\": {\n",
    "                                \"type\": \"string\",\n",
    "                                \"enum\": [\"positive\", \"negative\", \"neutral\"]\n",
    "                            }\n",
    "                        },\n",
    "                        \"required\": [\"aspect\", \"sentiment\"]\n",
    "                    }\n",
    "                }\n",
    "            },\n",
    "            \"required\": [\"results\"]\n",
    "        }\n",
    "    }\n",
    "]\n"
   ]
  },
  {
   "cell_type": "code",
   "execution_count": 23,
   "id": "382f1ee3",
   "metadata": {},
   "outputs": [
    {
     "name": "stdout",
     "output_type": "stream",
     "text": [
      "Processing 100 samples...\n"
     ]
    },
    {
     "name": "stderr",
     "output_type": "stream",
     "text": [
      " 10%|█         | 10/100 [00:51<09:54,  6.61s/it]"
     ]
    },
    {
     "name": "stdout",
     "output_type": "stream",
     "text": [
      "Saved progress at sample 10\n"
     ]
    },
    {
     "name": "stderr",
     "output_type": "stream",
     "text": [
      " 16%|█▌        | 16/100 [01:29<09:38,  6.89s/it]"
     ]
    },
    {
     "name": "stdout",
     "output_type": "stream",
     "text": [
      "JSON Parse Error: {\n",
      " there! I've analyzed the review and extracted the aspects and their corresponding sentiments. Here's the result in the requested JSON format:\n",
      "\n",
      "{\n",
      "    \"results\": [\n",
      "        {\"aspect\": \"AMBIENCE#GENERAL\", \"sentiment\": \"positive\"},\n",
      "        {\"aspect\": \"DRINKS#QUALITY\", \"sentiment\": \"positive\"},\n",
      "        {\"aspect\": \"DRINKS#STYLE&OPTIONS\", \"sentiment\": \"positive\"},\n",
      "        {\"aspect\": \"FOOD#QUALITY\", \"sentiment\": \"positive\"},\n",
      "        {\"aspect\": \"FOOD#STYLE&OPTIONS\", \"sentiment\": \"positive\"},\n",
      "        {\"aspect\": \"FOOD#PRICES\", \"sentiment\": \"positive\"},\n",
      "        {\"aspect\": \"LOCATION#GENERAL\", \"sentiment\": \"positive\"},\n",
      "        {\"aspect\": \"RESTAURANT#GENERAL\", \"sentiment\": \"positive\"},\n",
      "        {\"aspect\": \"RESTAURANT#PRICES\", \"sentiment\": \"positive\"},\n",
      "        {\"aspect\": \"SERVICE#GENERAL\", \"sentiment\": \"positive\"}\n",
      "    ]\n",
      "}\n"
     ]
    },
    {
     "name": "stderr",
     "output_type": "stream",
     "text": [
      " 20%|██        | 20/100 [01:51<07:16,  5.45s/it]"
     ]
    },
    {
     "name": "stdout",
     "output_type": "stream",
     "text": [
      "Saved progress at sample 20\n"
     ]
    },
    {
     "name": "stderr",
     "output_type": "stream",
     "text": [
      " 30%|███       | 30/100 [02:37<07:12,  6.18s/it]"
     ]
    },
    {
     "name": "stdout",
     "output_type": "stream",
     "text": [
      "JSON Parse Error: {\n",
      ", I’m happy to help with extracting aspects and sentiments from the review. Here’s the JSON object based on the provided text and available aspects/sentiments:\n",
      "\n",
      "```json\n",
      "{\n",
      "  \"results\": [\n",
      "    {\"aspect\": \"RESTAURANT#GENERAL\", \"sentiment\": \"neutral\"},\n",
      "    {\"aspect\": \"FOOD#STYLE&OPTIONS\", \"sentiment\": \"positive\"},\n",
      "    {\"aspect\": \"FOOD#QUALITY\", \"sentiment\": \"neutral\"},\n",
      "    {\"aspect\": \"FOOD#PRICES\", \"sentiment\": \"positive\"}\n",
      "  ]\n",
      "}\n",
      "```\n",
      "Saved progress at sample 30\n"
     ]
    },
    {
     "name": "stderr",
     "output_type": "stream",
     "text": [
      " 40%|████      | 40/100 [03:25<04:41,  4.69s/it]"
     ]
    },
    {
     "name": "stdout",
     "output_type": "stream",
     "text": [
      "Saved progress at sample 40\n"
     ]
    },
    {
     "name": "stderr",
     "output_type": "stream",
     "text": [
      " 50%|█████     | 50/100 [04:13<05:47,  6.95s/it]"
     ]
    },
    {
     "name": "stdout",
     "output_type": "stream",
     "text": [
      "Saved progress at sample 50\n"
     ]
    },
    {
     "name": "stderr",
     "output_type": "stream",
     "text": [
      " 60%|██████    | 60/100 [05:04<03:32,  5.32s/it]"
     ]
    },
    {
     "name": "stdout",
     "output_type": "stream",
     "text": [
      "Saved progress at sample 60\n"
     ]
    },
    {
     "name": "stderr",
     "output_type": "stream",
     "text": [
      " 68%|██████▊   | 68/100 [05:53<04:53,  9.16s/it]"
     ]
    },
    {
     "name": "stdout",
     "output_type": "stream",
     "text": [
      "JSON Parse Error: {\n",
      "thinking>\n",
      "I will analyze the review and extract the relevant aspects and their corresponding sentiments based on the provided list of available aspects and sentiments. Let's break down the review:\n",
      "\n",
      "1. \"Quán ngay ngã ba Nguyễn Súy-Gò Dầu, hình như mới mở thì phải.\" - This refers to the location of the restaurant. The sentiment seems neutral as it just states a fact without strong opinion.\n",
      "   - Aspect: LOCATION#GENERAL\n",
      "   - Sentiment: neutral\n",
      "\n",
      "2. \"Bữa mình làm bài tập nhóm nên đi khá đông, quán vẫn có bàn rộng đủ chỗ cho cả nhóm 15 người ngồi.\" - This refers to the general restaurant experience, specifically the seating capacity. The sentiment is positive as it highlights the adequacy of space.\n",
      "   - Aspect: RESTAURANT#GENERAL\n",
      "   - Sentiment: positive\n",
      "\n",
      "3. \"Buổi trưa mở nhạc nhẹ, wifi mạnh (chắc vậy nên thấy nhiều dân văn phòng ngồi đây).\" - This refers to the ambience of the restaurant, mentioning light music and strong wifi. The sentiment is positive as it implies a pleasant environment.\n",
      "   - Aspect: AMBIENCE#GENERAL\n",
      "   - Sentiment: positive\n",
      "\n",
      "4. \"Đồ uống giá khá mềm, chỉ từ 20-40k, chất lượng ok.\" - This splits into two aspects: the price of drinks and the quality of drinks. The sentiment for price is positive (\"khá mềm\" means reasonably cheap), and for quality, it's positive (\"ok\" in this context implies satisfactory or good).\n",
      "   - Aspect: DRINKS#PRICES\n",
      "     - Sentiment: positive\n",
      "   - Aspect: DRINKS#QUALITY\n",
      "     - Sentiment: positive\n",
      "\n",
      "5. \"Pha chế hơi cầu kì, bữa mình uống cacao nóng mà được làm trong ly rất đẹp, phân tầng và vẽ hình nữa.\" - This refers to the style and presentation of drinks. The sentiment is positive as it describes the preparation as elaborate and visually appealing.\n",
      "   - Aspect: DRINKS#STYLE&OPTIONS\n",
      "   - Sentiment: positive\n",
      "\n",
      "6. \"Nhân viên dễ thương, chú bảo vệ vui tính lại cẩn thận nữa (bữa mưa mà mình quan sát thấy chú đi up từng cái nón của khách lên yên xe cho đỡ ướt).\" - This refers to the service provided by the staff and security guard. The sentiment is positive due to the friendly and thoughtful behavior described.\n",
      "   - Aspect: SERVICE#GENERAL\n",
      "   - Sentiment: positive\n",
      "\n",
      "No mentions of FOOD#PRICES, FOOD#QUALITY, FOOD#STYLE&OPTIONS, RESTAURANT#MISCELLANEOUS, or RESTAURANT#PRICES were found in the review, so they are not included.\n",
      "\n",
      "Now, I will format this into the required JSON structure.\n",
      "</thinking>\n",
      "\n",
      "{\n",
      "    \"results\": [\n",
      "        {\"aspect\": \"LOCATION#GENERAL\", \"sentiment\": \"neutral\"},\n",
      "        {\"aspect\": \"RESTAURANT#GENERAL\", \"sentiment\": \"positive\"},\n",
      "        {\"aspect\": \"AMBIENCE#GENERAL\", \"sentiment\": \"positive\"},\n",
      "        {\"aspect\": \"DRINKS#PRICES\", \"sentiment\": \"positive\"},\n",
      "        {\"aspect\": \"DRINKS#QUALITY\", \"sentiment\": \"positive\"},\n",
      "        {\"aspect\": \"DRINKS#STYLE&OPTIONS\", \"sentiment\": \"positive\"},\n",
      "        {\"aspect\": \"SERVICE#GENERAL\", \"sentiment\": \"positive\"}\n",
      "    ]\n",
      "}\n"
     ]
    },
    {
     "name": "stderr",
     "output_type": "stream",
     "text": [
      " 70%|███████   | 70/100 [06:04<03:34,  7.14s/it]"
     ]
    },
    {
     "name": "stdout",
     "output_type": "stream",
     "text": [
      "Saved progress at sample 70\n"
     ]
    },
    {
     "name": "stderr",
     "output_type": "stream",
     "text": [
      " 80%|████████  | 80/100 [07:05<02:34,  7.72s/it]"
     ]
    },
    {
     "name": "stdout",
     "output_type": "stream",
     "text": [
      "Saved progress at sample 80\n"
     ]
    },
    {
     "name": "stderr",
     "output_type": "stream",
     "text": [
      " 90%|█████████ | 90/100 [07:57<00:49,  4.93s/it]"
     ]
    },
    {
     "name": "stdout",
     "output_type": "stream",
     "text": [
      "Saved progress at sample 90\n"
     ]
    },
    {
     "name": "stderr",
     "output_type": "stream",
     "text": [
      "100%|██████████| 100/100 [08:48<00:00,  5.28s/it]"
     ]
    },
    {
     "name": "stdout",
     "output_type": "stream",
     "text": [
      "Saved progress at sample 100\n",
      "Completed processing 100 samples\n"
     ]
    },
    {
     "name": "stderr",
     "output_type": "stream",
     "text": [
      "\n"
     ]
    }
   ],
   "source": [
    "\n",
    "# Setup Grok API\n",
    "def call_grok_api(prompt, max_retries=3):\n",
    "    url = \"https://api.x.ai/v1/chat/completions\"\n",
    "    headers = {\n",
    "        \"Authorization\": f\"Bearer {os.getenv('GROK_API_KEY')}\",\n",
    "        \"Content-Type\": \"application/json\"\n",
    "    }\n",
    "    \n",
    "    data = {\n",
    "        \"model\": \"grok-3\",\n",
    "        \"messages\": [\n",
    "            {\"role\": \"system\", \"content\": \"You are an AI assistant that extracts aspects and their sentiments from text.\"},\n",
    "            {\"role\": \"user\", \"content\": prompt}\n",
    "        ],\n",
    "        \"temperature\": 0\n",
    "    }\n",
    "    \n",
    "    for attempt in range(max_retries):\n",
    "        try:\n",
    "            response = requests.post(url, headers=headers, json=data, timeout=60)\n",
    "            if response.status_code == 200:\n",
    "                result = response.json()\n",
    "                return result['choices'][0]['message']['content']\n",
    "            else:\n",
    "                print(f\"API Error (attempt {attempt+1}): {response.status_code} - {response.text}\")\n",
    "                if attempt < max_retries - 1:\n",
    "                    import time\n",
    "                    time.sleep(2)  # Wait 2 seconds before retry\n",
    "                continue\n",
    "        except requests.exceptions.Timeout:\n",
    "            print(f\"Timeout error (attempt {attempt+1})\")\n",
    "            if attempt < max_retries - 1:\n",
    "                import time\n",
    "                time.sleep(2)\n",
    "            continue\n",
    "        except Exception as e:\n",
    "            print(f\"Request Error (attempt {attempt+1}): {e}\")\n",
    "            if attempt < max_retries - 1:\n",
    "                import time\n",
    "                time.sleep(2)\n",
    "            continue\n",
    "    \n",
    "    return None\n",
    "\n",
    "def extract_with_grok(text):\n",
    "    \"\"\"\n",
    "    Trích xuất aspect và sentiment sử dụng Grok API\n",
    "    \"\"\"\n",
    "    prompt = f\"\"\"\n",
    "    Extract aspects and sentiments from the following review:\n",
    "    {text}\n",
    "    \n",
    "    Available aspects: {', '.join(aspects)}\n",
    "    Available sentiments: positive, negative, neutral\n",
    "    \n",
    "    Return ONLY a valid JSON object in this exact format:\n",
    "    {{\"results\": [{{\"aspect\": \"aspect_name\", \"sentiment\": \"sentiment_value\"}}]}}\n",
    "    \"\"\"\n",
    "    \n",
    "    response_text = call_grok_api(prompt)\n",
    "    \n",
    "    if response_text:\n",
    "        try:\n",
    "            # Tìm JSON trong response\n",
    "            start_idx = response_text.find('{')\n",
    "            end_idx = response_text.rfind('}') + 1\n",
    "            \n",
    "            if start_idx != -1 and end_idx != -1:\n",
    "                json_str = response_text[start_idx:end_idx]\n",
    "                parsed_output = json.loads(json_str)\n",
    "                return parsed_output\n",
    "            else:\n",
    "                return {\"results\": []}\n",
    "        except json.JSONDecodeError:\n",
    "            print(f\"JSON Parse Error: {response_text}\")\n",
    "            return {\"results\": []}\n",
    "    else:\n",
    "        return {\"results\": []}\n",
    "\n",
    "predictions = []\n",
    "\n",
    "print(f\"Processing {len(test_json)} samples...\")\n",
    "\n",
    "for i, data in enumerate(tqdm(test_json)):\n",
    "    try:\n",
    "        prediction = extract_with_grok(data['text'])\n",
    "        predictions.append(prediction)\n",
    "        \n",
    "        if (i + 1) % 10 == 0:\n",
    "            temp_file = path.join(RESULT_DIR, f'temp_grok_restaurant_progress_{i+1}.json')\n",
    "            with open(temp_file, 'w') as f:\n",
    "                json.dump(predictions, f, indent=2, ensure_ascii=False)\n",
    "            print(f\"Saved progress at sample {i+1}\")\n",
    "            \n",
    "    except KeyboardInterrupt:\n",
    "        print(f\"\\nInterrupted at sample {i+1}. Saving current progress...\")\n",
    "        temp_file = path.join(RESULT_DIR, f'temp_grok_restaurant_interrupted_{i+1}.json')\n",
    "        with open(temp_file, 'w') as f:\n",
    "            json.dump(predictions, f, indent=2, ensure_ascii=False)\n",
    "        print(f\"Progress saved to {temp_file}\")\n",
    "        break\n",
    "    except Exception as e:\n",
    "        print(f\"Error processing sample {i}: {e}\")\n",
    "        predictions.append({\"results\": []})  # Add empty result to maintain alignment\n",
    "\n",
    "print(f\"Completed processing {len(predictions)} samples\")"
   ]
  },
  {
   "cell_type": "code",
   "execution_count": 24,
   "id": "f8e27f4e",
   "metadata": {},
   "outputs": [
    {
     "name": "stdout",
     "output_type": "stream",
     "text": [
      "{'Aspect Detection F1': 0.7789699520656579, 'Sentiment Classification F1': 0.684549351209315}\n"
     ]
    }
   ],
   "source": [
    "scores = evaluate_aspect_sentiment(test_json, predictions)\n",
    "print(scores)"
   ]
  },
  {
   "cell_type": "code",
   "execution_count": 25,
   "id": "1f718979",
   "metadata": {},
   "outputs": [],
   "source": [
    "result_file = path.join(RESULT_DIR, 'ViABSA_BP_Zero-shot-Restaurant_Grok.json')\n",
    "with open(result_file, 'w') as f:\n",
    "    json.dump(predictions, f, indent=4, ensure_ascii=False)"
   ]
  }
 ],
 "metadata": {
  "kernelspec": {
   "display_name": "ABSA_Prompting",
   "language": "python",
   "name": "python3"
  },
  "language_info": {
   "codemirror_mode": {
    "name": "ipython",
    "version": 3
   },
   "file_extension": ".py",
   "mimetype": "text/x-python",
   "name": "python",
   "nbconvert_exporter": "python",
   "pygments_lexer": "ipython3",
   "version": "3.11.12"
  }
 },
 "nbformat": 4,
 "nbformat_minor": 5
}
