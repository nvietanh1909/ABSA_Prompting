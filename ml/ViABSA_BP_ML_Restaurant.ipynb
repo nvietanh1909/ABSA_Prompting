{
 "cells": [
  {
   "cell_type": "code",
   "execution_count": 21,
   "id": "14eb20b2",
   "metadata": {},
   "outputs": [],
   "source": [
    "from os import path\n",
    "import pandas as pd\n",
    "from sklearn.feature_extraction.text import TfidfVectorizer\n",
    "from sklearn.multioutput import MultiOutputClassifier\n",
    "from sklearn.multiclass import OneVsRestClassifier\n",
    "from sklearn.linear_model import LogisticRegression\n",
    "from sklearn.pipeline import Pipeline\n",
    "from sklearn.metrics import f1_score, confusion_matrix, ConfusionMatrixDisplay\n",
    "import numpy as np\n",
    "import matplotlib.pyplot as plt\n",
    "import seaborn as sns\n",
    "import os\n",
    "\n",
    "# Định nghĩa đường dẫn\n",
    "DATA_DIR = r\"c:\\Users\\Admin\\Python\\ABSA_Prompting\\data\"\n",
    "RESULT_DIR = r\"c:\\Users\\Admin\\Python\\ABSA_Prompting\\results\"\n",
    "os.makedirs(DATA_DIR, exist_ok=True)\n",
    "os.makedirs(RESULT_DIR, exist_ok=True)"
   ]
  },
  {
   "cell_type": "code",
   "execution_count": 22,
   "id": "f6e11677",
   "metadata": {},
   "outputs": [
    {
     "name": "stdout",
     "output_type": "stream",
     "text": [
      "Train data shape: (2961, 13)\n",
      "Test data shape: (500, 13)\n",
      "Columns: ['Review', 'AMBIENCE#GENERAL', 'DRINKS#PRICES', 'DRINKS#QUALITY', 'DRINKS#STYLE&OPTIONS', 'FOOD#PRICES', 'FOOD#QUALITY', 'FOOD#STYLE&OPTIONS', 'LOCATION#GENERAL', 'RESTAURANT#GENERAL', 'RESTAURANT#MISCELLANEOUS', 'RESTAURANT#PRICES', 'SERVICE#GENERAL']\n",
      "First few rows:\n",
      "                                              Review  AMBIENCE#GENERAL  \\\n",
      "0  _ Ảnh chụp từ hôm qua, đi chơi với gia đình và...                 0   \n",
      "1  _Hương vị thơm ngon, ăn cay cay rất thích, nêm...                 1   \n",
      "2  - 1 bàn tiệc hoành tráng 3 đứa ăn no muốn tắt ...                 2   \n",
      "3  - Các bạn nhìn cái chảo này có to không 🙄🙄🙄- T...                 0   \n",
      "4  - Cháo: có nhiều hương cho các bạn chọn, nhưng...                 0   \n",
      "\n",
      "   DRINKS#PRICES  DRINKS#QUALITY  DRINKS#STYLE&OPTIONS  FOOD#PRICES  \\\n",
      "0              0               0                     0            0   \n",
      "1              0               0                     0            3   \n",
      "2              0               0                     0            1   \n",
      "3              0               0                     0            0   \n",
      "4              0               0                     0            0   \n",
      "\n",
      "   FOOD#QUALITY  FOOD#STYLE&OPTIONS  LOCATION#GENERAL  RESTAURANT#GENERAL  \\\n",
      "0             3                   3                 0                   0   \n",
      "1             1                   1                 0                   1   \n",
      "2             1                   1                 2                   1   \n",
      "3             1                   1                 0                   1   \n",
      "4             1                   1                 0                   0   \n",
      "\n",
      "   RESTAURANT#MISCELLANEOUS  RESTAURANT#PRICES  SERVICE#GENERAL  \n",
      "0                         0                  0                0  \n",
      "1                         0                  3                2  \n",
      "2                         1                  0                1  \n",
      "3                         0                  0                0  \n",
      "4                         0                  0                0  \n"
     ]
    }
   ],
   "source": [
    "# CONFIG - Restaurant dataset\n",
    "\n",
    "ViABSA_Restaurant_dir = path.join(DATA_DIR, 'ViABSA_Restaurant')\n",
    "train_file = path.join(ViABSA_Restaurant_dir, 'data_train.csv')\n",
    "test_file = path.join(ViABSA_Restaurant_dir, 'data_test.csv')\n",
    "\n",
    "train_df = pd.read_csv(train_file)\n",
    "test_df = pd.read_csv(test_file)\n",
    "\n",
    "print(f\"Train data shape: {train_df.shape}\")\n",
    "print(f\"Test data shape: {test_df.shape}\")\n",
    "print(f\"Columns: {list(train_df.columns)}\")\n",
    "print(f\"First few rows:\")\n",
    "print(train_df.head())"
   ]
  },
  {
   "cell_type": "code",
   "execution_count": 23,
   "id": "e74d09f1",
   "metadata": {},
   "outputs": [
    {
     "name": "stdout",
     "output_type": "stream",
     "text": [
      "Restaurant aspects: ['AMBIENCE#GENERAL', 'DRINKS#PRICES', 'DRINKS#QUALITY', 'DRINKS#STYLE&OPTIONS', 'FOOD#PRICES', 'FOOD#QUALITY', 'FOOD#STYLE&OPTIONS', 'LOCATION#GENERAL', 'RESTAURANT#GENERAL', 'RESTAURANT#MISCELLANEOUS', 'RESTAURANT#PRICES', 'SERVICE#GENERAL']\n",
      "Number of aspects: 12\n",
      "Train size: 2961\n",
      "Test size: 500\n"
     ]
    }
   ],
   "source": [
    "# SETUP DATA - Restaurant aspects\n",
    "# Restaurant dataset có format: Review, aspect_columns với giá trị 0,1,2,3\n",
    "# 0: không có aspect, 1: positive, 2: neutral, 3: negative\n",
    "\n",
    "aspects = [col for col in train_df.columns if col != 'Review']\n",
    "print(f\"Restaurant aspects: {aspects}\")\n",
    "print(f\"Number of aspects: {len(aspects)}\")\n",
    "\n",
    "# Sử dụng train/test datasets có sẵn\n",
    "train_data = train_df.copy()\n",
    "test_data = test_df.copy()\n",
    "\n",
    "print(f\"Train size: {len(train_data)}\")\n",
    "print(f\"Test size: {len(test_data)}\")\n",
    "\n",
    "# Tạo binary labels cho aspect detection\n",
    "for aspect in aspects:\n",
    "    train_data[aspect + '_label'] = (train_data[aspect] != 0).astype(int)\n",
    "    test_data[aspect + '_label'] = (test_data[aspect] != 0).astype(int)\n",
    "\n",
    "aspect_labels = [aspect + '_label' for aspect in aspects]\n",
    "\n",
    "X_train = train_data['Review']\n",
    "y_train_aspect = train_data[aspect_labels]\n",
    "X_test = test_data['Review']\n",
    "y_test_aspect = test_data[aspect_labels]"
   ]
  },
  {
   "cell_type": "code",
   "execution_count": 24,
   "id": "54d3b4fb",
   "metadata": {},
   "outputs": [
    {
     "name": "stdout",
     "output_type": "stream",
     "text": [
      "X_train shape: (2961,)\n",
      "y_train_aspect shape: (2961, 12)\n",
      "X_test shape: (500,)\n",
      "y_test_aspect shape: (500, 12)\n",
      "\n",
      "Sample data:\n",
      "                                              Review  AMBIENCE#GENERAL  \\\n",
      "0  _ Ảnh chụp từ hôm qua, đi chơi với gia đình và...                 0   \n",
      "1  _Hương vị thơm ngon, ăn cay cay rất thích, nêm...                 1   \n",
      "2  - 1 bàn tiệc hoành tráng 3 đứa ăn no muốn tắt ...                 2   \n",
      "3  - Các bạn nhìn cái chảo này có to không 🙄🙄🙄- T...                 0   \n",
      "4  - Cháo: có nhiều hương cho các bạn chọn, nhưng...                 0   \n",
      "\n",
      "   DRINKS#PRICES  DRINKS#QUALITY  \n",
      "0              0               0  \n",
      "1              0               0  \n",
      "2              0               0  \n",
      "3              0               0  \n",
      "4              0               0  \n",
      "\n",
      "Aspect distribution in training data:\n",
      "AMBIENCE#GENERAL: 737 mentions\n",
      "DRINKS#PRICES: 102 mentions\n",
      "DRINKS#QUALITY: 114 mentions\n",
      "DRINKS#STYLE&OPTIONS: 102 mentions\n",
      "FOOD#PRICES: 1401 mentions\n",
      "FOOD#QUALITY: 2658 mentions\n",
      "FOOD#STYLE&OPTIONS: 1746 mentions\n",
      "LOCATION#GENERAL: 373 mentions\n",
      "RESTAURANT#GENERAL: 855 mentions\n",
      "RESTAURANT#MISCELLANEOUS: 151 mentions\n",
      "RESTAURANT#PRICES: 263 mentions\n",
      "SERVICE#GENERAL: 795 mentions\n"
     ]
    }
   ],
   "source": [
    "# Kiểm tra dữ liệu\n",
    "print(f\"X_train shape: {X_train.shape}\")\n",
    "print(f\"y_train_aspect shape: {y_train_aspect.shape}\")\n",
    "print(f\"X_test shape: {X_test.shape}\")\n",
    "print(f\"y_test_aspect shape: {y_test_aspect.shape}\")\n",
    "\n",
    "print(\"\\nSample data:\")\n",
    "print(train_data[['Review'] + aspects[:3]].head())\n",
    "\n",
    "print(\"\\nAspect distribution in training data:\")\n",
    "for aspect in aspects:\n",
    "    count = (train_data[aspect] != 0).sum()\n",
    "    print(f\"{aspect}: {count} mentions\")"
   ]
  },
  {
   "cell_type": "code",
   "execution_count": 25,
   "id": "68b11a39",
   "metadata": {},
   "outputs": [
    {
     "name": "stdout",
     "output_type": "stream",
     "text": [
      "Training aspect detection model...\n",
      "Predicting aspects...\n",
      "Aspect detection completed!\n"
     ]
    }
   ],
   "source": [
    "# Pipeline phát hiện khía cạnh (multi-label)\n",
    "pipeline_aspect = Pipeline([\n",
    "    ('tfidf', TfidfVectorizer(max_features=5000, ngram_range=(1, 2))),\n",
    "    ('clf', MultiOutputClassifier(LogisticRegression(solver='liblinear', max_iter=1000)))\n",
    "])\n",
    "\n",
    "# Huấn luyện mô hình\n",
    "print(\"Training aspect detection model...\")\n",
    "pipeline_aspect.fit(X_train, y_train_aspect)\n",
    "\n",
    "# Dự đoán khía cạnh trên test set\n",
    "print(\"Predicting aspects...\")\n",
    "y_pred_aspect = pipeline_aspect.predict(X_test)\n",
    "\n",
    "print(\"Aspect detection completed!\")"
   ]
  },
  {
   "cell_type": "code",
   "execution_count": 26,
   "id": "467c08e6",
   "metadata": {},
   "outputs": [
    {
     "name": "stdout",
     "output_type": "stream",
     "text": [
      "F1_ad (Aspect Detection): 0.7092\n",
      "\n",
      "F1 scores for individual aspects:\n",
      "AMBIENCE#GENERAL: 0.6458\n",
      "DRINKS#PRICES: 0.0000\n",
      "DRINKS#QUALITY: 0.0278\n",
      "DRINKS#STYLE&OPTIONS: 0.0000\n",
      "FOOD#PRICES: 0.7994\n",
      "FOOD#QUALITY: 0.9551\n",
      "FOOD#STYLE&OPTIONS: 0.9173\n",
      "LOCATION#GENERAL: 0.1347\n",
      "RESTAURANT#GENERAL: 0.5765\n",
      "RESTAURANT#MISCELLANEOUS: 0.0000\n",
      "RESTAURANT#PRICES: 0.0000\n",
      "SERVICE#GENERAL: 0.6787\n"
     ]
    }
   ],
   "source": [
    "# Tính F1 score cho aspect detection\n",
    "f1_ad = f1_score(y_test_aspect, y_pred_aspect, average='micro') \n",
    "print(f\"F1_ad (Aspect Detection): {f1_ad:.4f}\")\n",
    "\n",
    "# F1 cho từng aspect\n",
    "print(\"\\nF1 scores for individual aspects:\")\n",
    "for i, aspect in enumerate(aspects):\n",
    "    f1_individual = f1_score(y_test_aspect.iloc[:, i], y_pred_aspect[:, i])\n",
    "    print(f\"{aspect}: {f1_individual:.4f}\")"
   ]
  },
  {
   "cell_type": "code",
   "execution_count": 27,
   "id": "ff297566",
   "metadata": {},
   "outputs": [
    {
     "name": "stdout",
     "output_type": "stream",
     "text": [
      "\n",
      "Confusion matrix for aspect 'AMBIENCE#GENERAL':\n"
     ]
    },
    {
     "data": {
      "image/png": "[encoded data removed]",
      "text/plain": [
       "<Figure size 640x480 with 2 Axes>"
      ]
     },
     "metadata": {},
     "output_type": "display_data"
    }
   ],
   "source": [
    "# Confusion matrix cho một khía cạnh ví dụ (chọn aspect đầu tiên)\n",
    "if len(aspects) > 0:\n",
    "    aspect = aspects[0]  # Chọn aspect đầu tiên\n",
    "    idx = aspects.index(aspect)\n",
    "    print(f\"\\nConfusion matrix for aspect '{aspect}':\")\n",
    "\n",
    "    cm = confusion_matrix(y_test_aspect[aspect + '_label'], y_pred_aspect[:, idx])\n",
    "    disp = ConfusionMatrixDisplay(confusion_matrix=cm, display_labels=[0, 1])\n",
    "    disp.plot(cmap='Blues')\n",
    "    plt.title(f'Confusion Matrix for aspect \"{aspect}\"')\n",
    "    plt.show()"
   ]
  },
  {
   "cell_type": "code",
   "execution_count": 28,
   "id": "80c92164",
   "metadata": {},
   "outputs": [
    {
     "name": "stdout",
     "output_type": "stream",
     "text": [
      "Sentiment mapping completed!\n",
      "Mapping: 0=none(-1), 1=positive(2), 2=neutral(1), 3=negative(0)\n"
     ]
    }
   ],
   "source": [
    "# Map nhãn cảm xúc thành số cho Restaurant dataset\n",
    "# 0=none, 1=positive, 2=neutral, 3=negative\n",
    "sentiment_map = {0: -1, 1: 2, 2: 1, 3: 0} \n",
    "\n",
    "# Chuẩn bị y_train_sentiment và y_test_sentiment\n",
    "y_train_sentiment = {}\n",
    "y_test_sentiment = {}\n",
    "\n",
    "for aspect in aspects:\n",
    "    y_train_sentiment[aspect] = train_data[aspect].map(sentiment_map).fillna(-1).astype(int)\n",
    "    y_test_sentiment[aspect] = test_data[aspect].map(sentiment_map).fillna(-1).astype(int)\n",
    "\n",
    "print(\"Sentiment mapping completed!\")\n",
    "print(\"Mapping: 0=none(-1), 1=positive(2), 2=neutral(1), 3=negative(0)\")"
   ]
  },
  {
   "cell_type": "code",
   "execution_count": 29,
   "id": "470ea8ea",
   "metadata": {},
   "outputs": [
    {
     "name": "stdout",
     "output_type": "stream",
     "text": [
      "Training sentiment classification models...\n",
      "  - Trained sentiment classifier for AMBIENCE#GENERAL (737 samples)\n",
      "  - Trained sentiment classifier for DRINKS#PRICES (102 samples)\n",
      "  - Trained sentiment classifier for DRINKS#QUALITY (114 samples)\n",
      "  - Trained sentiment classifier for DRINKS#STYLE&OPTIONS (102 samples)\n",
      "  - Trained sentiment classifier for FOOD#PRICES (1401 samples)\n",
      "  - Trained sentiment classifier for FOOD#QUALITY (2658 samples)\n",
      "  - Trained sentiment classifier for FOOD#STYLE&OPTIONS (1746 samples)\n",
      "  - Trained sentiment classifier for LOCATION#GENERAL (373 samples)\n",
      "  - Trained sentiment classifier for RESTAURANT#GENERAL (855 samples)\n",
      "  - Trained sentiment classifier for RESTAURANT#MISCELLANEOUS (151 samples)\n",
      "  - Trained sentiment classifier for RESTAURANT#PRICES (263 samples)\n",
      "  - Trained sentiment classifier for SERVICE#GENERAL (795 samples)\n",
      "Sentiment classification training completed!\n"
     ]
    }
   ],
   "source": [
    "# Huấn luyện bộ phân loại cảm xúc cho từng khía cạnh\n",
    "pipeline_sentiment = {}\n",
    "print(\"Training sentiment classification models...\")\n",
    "\n",
    "for aspect in aspects:\n",
    "    # Chọn mẫu có khía cạnh trong tập train\n",
    "    mask_train = y_train_aspect[aspect + '_label'] == 1\n",
    "    X_train_aspect = X_train[mask_train]\n",
    "    y_train_aspect_sent = y_train_sentiment[aspect][mask_train]\n",
    "    \n",
    "    if len(X_train_aspect) > 0 and len(y_train_aspect_sent.unique()) > 1:\n",
    "        pipe = Pipeline([\n",
    "            ('tfidf', TfidfVectorizer(max_features=3000, ngram_range=(1, 2))),\n",
    "            ('clf', OneVsRestClassifier(LogisticRegression(solver='liblinear', max_iter=1000)))\n",
    "        ])\n",
    "        pipe.fit(X_train_aspect, y_train_aspect_sent)\n",
    "        pipeline_sentiment[aspect] = pipe\n",
    "        print(f\"  - Trained sentiment classifier for {aspect} ({len(X_train_aspect)} samples)\")\n",
    "    else:\n",
    "        pipeline_sentiment[aspect] = None\n",
    "        print(f\"  - Skipped {aspect} (insufficient data)\")\n",
    "\n",
    "print(\"Sentiment classification training completed!\")"
   ]
  },
  {
   "cell_type": "code",
   "execution_count": 30,
   "id": "7cf50822",
   "metadata": {},
   "outputs": [
    {
     "name": "stdout",
     "output_type": "stream",
     "text": [
      "Predicting sentiments...\n",
      "  - Predicted sentiments for AMBIENCE#GENERAL (129 samples)\n",
      "  - Predicted sentiments for DRINKS#QUALITY (1 samples)\n",
      "  - Predicted sentiments for FOOD#PRICES (347 samples)\n",
      "  - Predicted sentiments for FOOD#QUALITY (500 samples)\n",
      "  - Predicted sentiments for FOOD#STYLE&OPTIONS (456 samples)\n",
      "  - Predicted sentiments for LOCATION#GENERAL (14 samples)\n",
      "  - Predicted sentiments for RESTAURANT#GENERAL (169 samples)\n",
      "  - Predicted sentiments for SERVICE#GENERAL (102 samples)\n",
      "Sentiment prediction completed!\n"
     ]
    }
   ],
   "source": [
    "# Dự đoán cảm xúc cho từng khía cạnh trên test set\n",
    "print(\"Predicting sentiments...\")\n",
    "num_samples = len(X_test)\n",
    "y_pred_sentiment = np.full((num_samples, len(aspects)), -1)  # -1 nghĩa là không dự đoán\n",
    "\n",
    "for i, aspect in enumerate(aspects):\n",
    "    pipe = pipeline_sentiment[aspect]\n",
    "    if pipe is not None:\n",
    "        mask_pred = y_pred_aspect[:, i] == 1\n",
    "        if np.any(mask_pred):\n",
    "            X_test_aspect = X_test[mask_pred]\n",
    "            y_pred_sentiment[mask_pred, i] = pipe.predict(X_test_aspect)\n",
    "            print(f\"  - Predicted sentiments for {aspect} ({np.sum(mask_pred)} samples)\")\n",
    "\n",
    "print(\"Sentiment prediction completed!\")"
   ]
  },
  {
   "cell_type": "code",
   "execution_count": 31,
   "id": "6d2deca0",
   "metadata": {},
   "outputs": [
    {
     "name": "stdout",
     "output_type": "stream",
     "text": [
      "\n",
      "Sentiment Classification F1 scores:\n",
      "F1_sc (AMBIENCE#GENERAL): 0.7651\n",
      "F1_sc (DRINKS#PRICES): No predictions\n",
      "F1_sc (DRINKS#QUALITY): 1.0000\n",
      "F1_sc (DRINKS#STYLE&OPTIONS): No predictions\n",
      "F1_sc (FOOD#PRICES): 0.5933\n",
      "F1_sc (FOOD#QUALITY): 0.8265\n",
      "F1_sc (FOOD#STYLE&OPTIONS): 0.7493\n",
      "F1_sc (LOCATION#GENERAL): 0.4872\n",
      "F1_sc (RESTAURANT#GENERAL): 0.8309\n",
      "F1_sc (RESTAURANT#MISCELLANEOUS): No predictions\n",
      "F1_sc (RESTAURANT#PRICES): No predictions\n",
      "F1_sc (SERVICE#GENERAL): 0.6073\n",
      "\n",
      "F1_sc (Sentiment Classification, average): 0.7324\n"
     ]
    }
   ],
   "source": [
    "# Tính F1_sc cho từng khía cạnh và trung bình\n",
    "f1_sc_list = []\n",
    "print(\"\\nSentiment Classification F1 scores:\")\n",
    "\n",
    "for i, aspect in enumerate(aspects):\n",
    "    mask = (y_pred_aspect[:, i] == 1) & (y_test_sentiment[aspect] != -1)\n",
    "    if np.sum(mask) > 0:\n",
    "        f1 = f1_score(\n",
    "            y_test_sentiment[aspect][mask],\n",
    "            y_pred_sentiment[mask, i],\n",
    "            average='weighted'\n",
    "        )\n",
    "        f1_sc_list.append(f1)\n",
    "        print(f\"F1_sc ({aspect}): {f1:.4f}\")\n",
    "    else:\n",
    "        print(f\"F1_sc ({aspect}): No predictions\")\n",
    "\n",
    "f1_sc = np.mean(f1_sc_list) if f1_sc_list else 0\n",
    "print(f\"\\nF1_sc (Sentiment Classification, average): {f1_sc:.4f}\")"
   ]
  },
  {
   "cell_type": "code",
   "execution_count": 32,
   "id": "5ce39e72",
   "metadata": {},
   "outputs": [
    {
     "name": "stdout",
     "output_type": "stream",
     "text": [
      "==================================================\n",
      "FINAL RESULTS - RESTAURANT DATASET\n",
      "==================================================\n",
      "F1_ad (Aspect Detection): 0.7092\n",
      "F1_sc (Sentiment Classification): 0.7324\n",
      "Number of aspects: 12\n",
      "Train samples: 2961\n",
      "Test samples: 500\n"
     ]
    },
    {
     "data": {
      "image/png": "[encoded data removed]",
      "text/plain": [
       "<Figure size 800x600 with 2 Axes>"
      ]
     },
     "metadata": {},
     "output_type": "display_data"
    }
   ],
   "source": [
    "# Kết quả cuối cùng cho Restaurant dataset\n",
    "print(\"=\"*50)\n",
    "print(\"FINAL RESULTS - RESTAURANT DATASET\")\n",
    "print(\"=\"*50)\n",
    "print(f\"F1_ad (Aspect Detection): {f1_ad:.4f}\")\n",
    "print(f\"F1_sc (Sentiment Classification): {f1_sc:.4f}\")\n",
    "print(f\"Number of aspects: {len(aspects)}\")\n",
    "print(f\"Train samples: {len(train_data)}\")\n",
    "print(f\"Test samples: {len(test_data)}\")\n",
    "\n",
    "# Confusion matrix cho sentiment classification (chọn aspect có nhiều dữ liệu nhất)\n",
    "if f1_sc_list:  # Nếu có ít nhất 1 aspect được huấn luyện\n",
    "    # Tìm aspect có nhiều prediction nhất\n",
    "    aspect_counts = []\n",
    "    for i, aspect in enumerate(aspects):\n",
    "        mask = (y_pred_aspect[:, i] == 1) & (y_test_sentiment[aspect] != -1)\n",
    "        aspect_counts.append((aspect, np.sum(mask), i))\n",
    "    \n",
    "    aspect_counts.sort(key=lambda x: x[1], reverse=True)\n",
    "    \n",
    "    if aspect_counts[0][1] > 0:\n",
    "        aspect, count, idx = aspect_counts[0]\n",
    "        mask = (y_pred_aspect[:, idx] == 1) & (y_test_sentiment[aspect] != -1)\n",
    "        \n",
    "        if np.sum(mask) > 0:\n",
    "            cm = confusion_matrix(y_test_sentiment[aspect][mask], y_pred_sentiment[mask, idx])\n",
    "            \n",
    "            plt.figure(figsize=(8, 6))\n",
    "            sns.heatmap(cm, annot=True, fmt='d', cmap='Blues', \n",
    "                       xticklabels=['negative', 'neutral', 'positive'], \n",
    "                       yticklabels=['negative', 'neutral', 'positive'])\n",
    "            plt.title(f'Sentiment Classification Confusion Matrix\\\\nAspect: \"{aspect}\" ({count} predictions)')\n",
    "            plt.xlabel('Predicted')\n",
    "            plt.ylabel('Actual')\n",
    "            plt.show()"
   ]
  }
 ],
 "metadata": {
  "kernelspec": {
   "display_name": "ABSA_Prompting",
   "language": "python",
   "name": "python3"
  },
  "language_info": {
   "codemirror_mode": {
    "name": "ipython",
    "version": 3
   },
   "file_extension": ".py",
   "mimetype": "text/x-python",
   "name": "python",
   "nbconvert_exporter": "python",
   "pygments_lexer": "ipython3",
   "version": "3.11.12"
  }
 },
 "nbformat": 4,
 "nbformat_minor": 5
}
