{
 "cells": [
  {
   "cell_type": "code",
   "execution_count": 2,
   "id": "initial_id",
   "metadata": {
    "ExecuteTime": {
     "end_time": "2025-06-12T11:53:00.655765Z",
     "start_time": "2025-06-12T11:53:00.649965Z"
    },
    "collapsed": true
   },
   "outputs": [],
   "source": [
    "from os import path\n",
    "import pandas as pd\n",
    "from sklearn.feature_extraction.text import TfidfVectorizer\n",
    "from sklearn.multioutput import MultiOutputClassifier\n",
    "from sklearn.multiclass import OneVsRestClassifier\n",
    "from sklearn.linear_model import LogisticRegression\n",
    "from sklearn.pipeline import Pipeline\n",
    "from sklearn.metrics import f1_score, confusion_matrix, ConfusionMatrixDisplay\n",
    "import numpy as np\n",
    "import matplotlib.pyplot as plt\n",
    "import seaborn as sns\n",
    "import os\n",
    "\n",
    "# Định nghĩa đường dẫn\n",
    "DATA_DIR = r\"c:\\Users\\Admin\\Python\\ABSA_Prompting\\data\"\n",
    "RESULT_DIR = r\"c:\\Users\\Admin\\Python\\ABSA_Prompting\\results\"\n",
    "os.makedirs(DATA_DIR, exist_ok=True)\n",
    "os.makedirs(RESULT_DIR, exist_ok=True)"
   ]
  },
  {
   "cell_type": "code",
   "execution_count": null,
   "id": "5bd915a5b17b1099",
   "metadata": {
    "ExecuteTime": {
     "end_time": "2025-06-12T10:00:44.356877Z",
     "start_time": "2025-06-12T10:00:44.312687Z"
    }
   },
   "outputs": [],
   "source": [
    "# CONFIG\n",
    "\n",
    "ViABSA_BP_dir = path.join(DATA_DIR, 'ViABSA_BP')\n",
    "\n",
    "train_file = path.join(ViABSA_BP_dir, 'data_train.csv')\n",
    "test_file = path.join(ViABSA_BP_dir, 'data_test.csv')\n",
    "\n",
    "train_df = pd.read_csv(train_file)\n",
    "test_df = pd.read_csv(test_file)"
   ]
  },
  {
   "cell_type": "code",
   "execution_count": 4,
   "id": "d20f5ffabf8fe1ff",
   "metadata": {
    "ExecuteTime": {
     "end_time": "2025-06-12T10:00:44.378434Z",
     "start_time": "2025-06-12T10:00:44.357993Z"
    }
   },
   "outputs": [],
   "source": [
    "# SETUP DATA\n",
    "\n",
    "aspects = ['stayingpower', 'texture', 'smell', 'price', 'others', 'colour', 'shipping', 'packing']\n",
    "\n",
    "train_df[aspects] = train_df[aspects].fillna('none')\n",
    "test_df[aspects] = test_df[aspects].fillna('none')\n",
    "\n",
    "\n",
    "for aspect in aspects:\n",
    "    train_df[aspect + '_label'] = (train_df[aspect] != 'none').astype(int)\n",
    "    test_df[aspect + '_label'] = (test_df[aspect] != 'none').astype(int)\n",
    "\n",
    "aspect_labels = [aspect + '_label' for aspect in aspects]\n",
    "\n",
    "X_train = train_df['data']\n",
    "y_train_aspect = train_df[aspect_labels]\n",
    "X_test = test_df['data']\n",
    "y_test_aspect = test_df[aspect_labels]"
   ]
  },
  {
   "cell_type": "code",
   "execution_count": null,
   "id": "c085f0895982758",
   "metadata": {
    "ExecuteTime": {
     "end_time": "2025-06-12T10:01:19.264174Z",
     "start_time": "2025-06-12T10:01:19.247609Z"
    }
   },
   "outputs": [
    {
     "data": {
      "text/html": [
       "<div>\n",
       "<style scoped>\n",
       "    .dataframe tbody tr th:only-of-type {\n",
       "        vertical-align: middle;\n",
       "    }\n",
       "\n",
       "    .dataframe tbody tr th {\n",
       "        vertical-align: top;\n",
       "    }\n",
       "\n",
       "    .dataframe thead th {\n",
       "        text-align: right;\n",
       "    }\n",
       "</style>\n",
       "<table border=\"1\" class=\"dataframe\">\n",
       "  <thead>\n",
       "    <tr style=\"text-align: right;\">\n",
       "      <th></th>\n",
       "      <th>data</th>\n",
       "      <th>stayingpower</th>\n",
       "      <th>texture</th>\n",
       "      <th>smell</th>\n",
       "      <th>price</th>\n",
       "      <th>others</th>\n",
       "      <th>colour</th>\n",
       "      <th>shipping</th>\n",
       "      <th>packing</th>\n",
       "      <th>stayingpower_label</th>\n",
       "      <th>texture_label</th>\n",
       "      <th>smell_label</th>\n",
       "      <th>price_label</th>\n",
       "      <th>others_label</th>\n",
       "      <th>colour_label</th>\n",
       "      <th>shipping_label</th>\n",
       "      <th>packing_label</th>\n",
       "    </tr>\n",
       "  </thead>\n",
       "  <tbody>\n",
       "    <tr>\n",
       "      <th>0</th>\n",
       "      <td>son đẹp lăm,sẽ ủng hộ tiếp , shipper cũng dễ t...</td>\n",
       "      <td>none</td>\n",
       "      <td>none</td>\n",
       "      <td>none</td>\n",
       "      <td>none</td>\n",
       "      <td>none</td>\n",
       "      <td>none</td>\n",
       "      <td>positive</td>\n",
       "      <td>none</td>\n",
       "      <td>0</td>\n",
       "      <td>0</td>\n",
       "      <td>0</td>\n",
       "      <td>0</td>\n",
       "      <td>0</td>\n",
       "      <td>0</td>\n",
       "      <td>1</td>\n",
       "      <td>0</td>\n",
       "    </tr>\n",
       "    <tr>\n",
       "      <th>1</th>\n",
       "      <td>Son đẹp lắm nha mn tuy là son nội địa giá rẻ n...</td>\n",
       "      <td>none</td>\n",
       "      <td>positive</td>\n",
       "      <td>positive</td>\n",
       "      <td>positive</td>\n",
       "      <td>none</td>\n",
       "      <td>none</td>\n",
       "      <td>none</td>\n",
       "      <td>none</td>\n",
       "      <td>0</td>\n",
       "      <td>1</td>\n",
       "      <td>1</td>\n",
       "      <td>1</td>\n",
       "      <td>0</td>\n",
       "      <td>0</td>\n",
       "      <td>0</td>\n",
       "      <td>0</td>\n",
       "    </tr>\n",
       "    <tr>\n",
       "      <th>2</th>\n",
       "      <td>Son màu lên chuẩn, đẹp tuy nhiên dễ khô nên cầ...</td>\n",
       "      <td>none</td>\n",
       "      <td>negative</td>\n",
       "      <td>none</td>\n",
       "      <td>none</td>\n",
       "      <td>none</td>\n",
       "      <td>positive</td>\n",
       "      <td>none</td>\n",
       "      <td>none</td>\n",
       "      <td>0</td>\n",
       "      <td>1</td>\n",
       "      <td>0</td>\n",
       "      <td>0</td>\n",
       "      <td>0</td>\n",
       "      <td>1</td>\n",
       "      <td>0</td>\n",
       "      <td>0</td>\n",
       "    </tr>\n",
       "    <tr>\n",
       "      <th>3</th>\n",
       "      <td>Công dụng: rất đẹp\\nKết cấu: tốt\\nĐộ bền màu: ...</td>\n",
       "      <td>positive</td>\n",
       "      <td>positive</td>\n",
       "      <td>none</td>\n",
       "      <td>none</td>\n",
       "      <td>none</td>\n",
       "      <td>positive</td>\n",
       "      <td>none</td>\n",
       "      <td>none</td>\n",
       "      <td>1</td>\n",
       "      <td>1</td>\n",
       "      <td>0</td>\n",
       "      <td>0</td>\n",
       "      <td>0</td>\n",
       "      <td>1</td>\n",
       "      <td>0</td>\n",
       "      <td>0</td>\n",
       "    </tr>\n",
       "    <tr>\n",
       "      <th>4</th>\n",
       "      <td>Hàng gói siêu chắc chắn, packing xinh xỉu, đủ ...</td>\n",
       "      <td>none</td>\n",
       "      <td>none</td>\n",
       "      <td>none</td>\n",
       "      <td>none</td>\n",
       "      <td>none</td>\n",
       "      <td>none</td>\n",
       "      <td>none</td>\n",
       "      <td>positive</td>\n",
       "      <td>0</td>\n",
       "      <td>0</td>\n",
       "      <td>0</td>\n",
       "      <td>0</td>\n",
       "      <td>0</td>\n",
       "      <td>0</td>\n",
       "      <td>0</td>\n",
       "      <td>1</td>\n",
       "    </tr>\n",
       "  </tbody>\n",
       "</table>\n",
       "</div>"
      ],
      "text/plain": [
       "                                                data stayingpower   texture  \\\n",
       "0  son đẹp lăm,sẽ ủng hộ tiếp , shipper cũng dễ t...         none      none   \n",
       "1  Son đẹp lắm nha mn tuy là son nội địa giá rẻ n...         none  positive   \n",
       "2  Son màu lên chuẩn, đẹp tuy nhiên dễ khô nên cầ...         none  negative   \n",
       "3  Công dụng: rất đẹp\\nKết cấu: tốt\\nĐộ bền màu: ...     positive  positive   \n",
       "4  Hàng gói siêu chắc chắn, packing xinh xỉu, đủ ...         none      none   \n",
       "\n",
       "      smell     price others    colour  shipping   packing  \\\n",
       "0      none      none   none      none  positive      none   \n",
       "1  positive  positive   none      none      none      none   \n",
       "2      none      none   none  positive      none      none   \n",
       "3      none      none   none  positive      none      none   \n",
       "4      none      none   none      none      none  positive   \n",
       "\n",
       "   stayingpower_label  texture_label  smell_label  price_label  others_label  \\\n",
       "0                   0              0            0            0             0   \n",
       "1                   0              1            1            1             0   \n",
       "2                   0              1            0            0             0   \n",
       "3                   1              1            0            0             0   \n",
       "4                   0              0            0            0             0   \n",
       "\n",
       "   colour_label  shipping_label  packing_label  \n",
       "0             0               1              0  \n",
       "1             0               0              0  \n",
       "2             1               0              0  \n",
       "3             1               0              0  \n",
       "4             0               0              1  "
      ]
     },
     "execution_count": 5,
     "metadata": {},
     "output_type": "execute_result"
    }
   ],
   "source": [
    "train_df.head()"
   ]
  },
  {
   "cell_type": "code",
   "execution_count": 6,
   "id": "5b034c9959c2eac",
   "metadata": {
    "ExecuteTime": {
     "end_time": "2025-06-12T10:00:44.381046Z",
     "start_time": "2025-06-12T10:00:44.379183Z"
    }
   },
   "outputs": [
    {
     "name": "stdout",
     "output_type": "stream",
     "text": [
      "(12981,)\n",
      "(12981, 8)\n",
      "(1623,)\n",
      "(1623, 8)\n"
     ]
    }
   ],
   "source": [
    "print(X_train.shape)\n",
    "print(y_train_aspect.shape)\n",
    "print(X_test.shape)\n",
    "print(y_test_aspect.shape)"
   ]
  },
  {
   "cell_type": "code",
   "execution_count": 7,
   "id": "b3f44a52e5d953f8",
   "metadata": {
    "ExecuteTime": {
     "end_time": "2025-06-12T10:00:44.679658Z",
     "start_time": "2025-06-12T10:00:44.381559Z"
    }
   },
   "outputs": [],
   "source": [
    "# Pipeline phát hiện khía cạnh (multi-label)\n",
    "pipeline_aspect = Pipeline([\n",
    "    ('tfidf', TfidfVectorizer()),\n",
    "    ('clf', MultiOutputClassifier(LogisticRegression(solver='liblinear')))\n",
    "])\n",
    "\n",
    "# Huấn luyện mô hình\n",
    "pipeline_aspect.fit(X_train, y_train_aspect)\n",
    "\n",
    "# Dự đoán khía cạnh trên test set\n",
    "y_pred_aspect = pipeline_aspect.predict(X_test)"
   ]
  },
  {
   "cell_type": "code",
   "execution_count": 8,
   "id": "8c1848cf183e88b",
   "metadata": {
    "ExecuteTime": {
     "end_time": "2025-06-12T10:47:51.008215Z",
     "start_time": "2025-06-12T10:47:50.983633Z"
    }
   },
   "outputs": [
    {
     "name": "stdout",
     "output_type": "stream",
     "text": [
      "\n",
      "F1_ad (Aspect Detection): 0.9307\n"
     ]
    }
   ],
   "source": [
    "f1_ad = f1_score(y_test_aspect, y_pred_aspect, average='micro') \n",
    "print(f\"\\nF1_ad (Aspect Detection): {f1_ad:.4f}\")"
   ]
  },
  {
   "cell_type": "code",
   "execution_count": 9,
   "id": "a35a0057c5a92aeb",
   "metadata": {
    "ExecuteTime": {
     "end_time": "2025-06-12T10:48:23.745970Z",
     "start_time": "2025-06-12T10:48:23.689208Z"
    }
   },
   "outputs": [
    {
     "name": "stdout",
     "output_type": "stream",
     "text": [
      "\n",
      "Confusion matrix cho khía cạnh 'stayingpower':\n"
     ]
    },
    {
     "data": {
      "image/png": "[encoded data removed]",
      "text/plain": [
       "<Figure size 640x480 with 2 Axes>"
      ]
     },
     "metadata": {},
     "output_type": "display_data"
    }
   ],
   "source": [
    "# In confusion matrix cho từng khía cạnh (chọn 1 khía cạnh ví dụ: 'texture')\n",
    "# 'stayingpower', 'texture', 'smell', 'price', 'others', 'colour', 'shipping', 'packing'\n",
    "aspect = 'stayingpower'\n",
    "idx = aspects.index(aspect)\n",
    "print(f\"\\nConfusion matrix cho khía cạnh '{aspect}':\")\n",
    "\n",
    "cm = confusion_matrix(y_test_aspect[aspect + '_label'], y_pred_aspect[:, idx])\n",
    "disp = ConfusionMatrixDisplay(confusion_matrix=cm, display_labels=[0, 1])\n",
    "disp.plot(cmap='Blues')\n",
    "plt.title(f'Confusion Matrix cho khía cạnh \"{aspect}\"')\n",
    "plt.show()"
   ]
  },
  {
   "cell_type": "code",
   "execution_count": 10,
   "id": "ae3f70e64a4b5785",
   "metadata": {
    "ExecuteTime": {
     "end_time": "2025-06-12T10:00:45.072444Z",
     "start_time": "2025-06-12T10:00:44.680363Z"
    }
   },
   "outputs": [
    {
     "name": "stderr",
     "output_type": "stream",
     "text": [
      "c:\\Users\\Admin\\Python\\ABSA_Prompting\\.venv\\Lib\\site-packages\\sklearn\\multiclass.py:90: UserWarning: Label not 1 is present in all training examples.\n",
      "  warnings.warn(\n"
     ]
    }
   ],
   "source": [
    "# Map nhãn cảm xúc thành số\n",
    "sentiment_map = {'negative': 0, 'neutral': 1, 'positive': 2, 'none': -1}\n",
    "\n",
    "# Chuẩn bị y_train_sentiment và y_test_sentiment\n",
    "y_train_sentiment = {}\n",
    "y_test_sentiment = {}\n",
    "\n",
    "for aspect in aspects:\n",
    "    y_train_sentiment[aspect] = train_df[aspect].map(sentiment_map).fillna(-1).astype(int)\n",
    "    y_test_sentiment[aspect] = test_df[aspect].map(sentiment_map).fillna(-1).astype(int)\n",
    "\n",
    "# Huấn luyện bộ phân loại cảm xúc cho từng khía cạnh\n",
    "pipeline_sentiment = {}\n",
    "for aspect in aspects:\n",
    "    # Chọn mẫu có khía cạnh trong tập train\n",
    "    mask_train = y_train_aspect[aspect + '_label'] == 1\n",
    "    X_train_aspect = X_train[mask_train]\n",
    "    y_train_aspect_sent = y_train_sentiment[aspect][mask_train]\n",
    "    \n",
    "    if len(X_train_aspect) > 0:\n",
    "        pipe = Pipeline([\n",
    "            ('tfidf', TfidfVectorizer()),\n",
    "            ('clf', OneVsRestClassifier(LogisticRegression(solver='liblinear')))\n",
    "        ])\n",
    "        pipe.fit(X_train_aspect, y_train_aspect_sent)\n",
    "        pipeline_sentiment[aspect] = pipe\n",
    "    else:\n",
    "        pipeline_sentiment[aspect] = None\n",
    "\n",
    "# Dự đoán cảm xúc cho từng khía cạnh trên test set\n",
    "num_samples = len(X_test)\n",
    "y_pred_sentiment = np.full((num_samples, len(aspects)), -1)  # -1 nghĩa là không dự đoán\n",
    "\n",
    "for i, aspect in enumerate(aspects):\n",
    "    pipe = pipeline_sentiment[aspect]\n",
    "    if pipe is not None:\n",
    "        mask_pred = y_pred_aspect[:, i] == 1\n",
    "        if np.any(mask_pred):\n",
    "            X_test_aspect = X_test[mask_pred]\n",
    "            y_pred_sentiment[mask_pred, i] = pipe.predict(X_test_aspect)"
   ]
  },
  {
   "cell_type": "code",
   "execution_count": 11,
   "id": "aef6fab7f16043e4",
   "metadata": {
    "ExecuteTime": {
     "end_time": "2025-06-12T10:49:25.802355Z",
     "start_time": "2025-06-12T10:49:25.766111Z"
    }
   },
   "outputs": [
    {
     "name": "stdout",
     "output_type": "stream",
     "text": [
      "F1_sc (stayingpower): 0.7485\n",
      "F1_sc (texture): 0.7848\n",
      "F1_sc (smell): 0.8423\n",
      "F1_sc (price): 0.9844\n",
      "F1_sc (others): 1.0000\n",
      "F1_sc (colour): 0.8507\n",
      "F1_sc (shipping): 0.9061\n",
      "F1_sc (packing): 0.9593\n",
      "\n",
      "F1_sc (Sentiment Classification, trung bình): 0.8845\n"
     ]
    }
   ],
   "source": [
    "# Tính F1_sc cho từng khía cạnh và trung bình\n",
    "f1_sc_list = []\n",
    "for i, aspect in enumerate(aspects):\n",
    "    mask = (y_pred_aspect[:, i] == 1) & (y_test_sentiment[aspect] != -1)\n",
    "    if np.sum(mask) > 0:\n",
    "        f1 = f1_score(\n",
    "            y_test_sentiment[aspect][mask],\n",
    "            y_pred_sentiment[mask, i],\n",
    "            average='weighted'\n",
    "        )\n",
    "        f1_sc_list.append(f1)\n",
    "        print(f\"F1_sc ({aspect}): {f1:.4f}\")\n",
    "\n",
    "f1_sc = np.mean(f1_sc_list) if f1_sc_list else 0\n",
    "print(f\"\\nF1_sc (Sentiment Classification, trung bình): {f1_sc:.4f}\")"
   ]
  },
  {
   "cell_type": "code",
   "execution_count": 12,
   "id": "1c67677ff3389bcc",
   "metadata": {
    "ExecuteTime": {
     "end_time": "2025-06-12T10:00:45.086472Z",
     "start_time": "2025-06-12T10:00:45.073172Z"
    }
   },
   "outputs": [],
   "source": [
    "# F1_ad: F1-score trung bình trên tất cả các khía cạnh (multi-label)\n",
    "f1_ad = f1_score(y_test_aspect, y_pred_aspect, average='micro')\n",
    "\n",
    "# F1_sc: F1-score trung bình trên tất cả các khía cạnh và cảm xúc (chỉ tính trên các khía cạnh được dự đoán và có nhãn cảm xúc hợp lệ)\n",
    "f1_sc_list = []\n",
    "for i, aspect in enumerate(aspects):\n",
    "    # Chọn mẫu có khía cạnh được dự đoán và có nhãn cảm xúc hợp lệ (khác -1)\n",
    "    mask = (y_pred_aspect[:, i] == 1) & (y_test_sentiment[aspect] != -1)\n",
    "    if np.sum(mask) > 0:\n",
    "        f1 = f1_score(\n",
    "            y_test_sentiment[aspect][mask],\n",
    "            y_pred_sentiment[mask, i],\n",
    "            average='weighted'\n",
    "        )\n",
    "        f1_sc_list.append(f1)\n"
   ]
  },
  {
   "cell_type": "code",
   "execution_count": 13,
   "id": "46f577577865149e",
   "metadata": {
    "ExecuteTime": {
     "end_time": "2025-06-12T11:50:52.896711Z",
     "start_time": "2025-06-12T11:50:52.858430Z"
    }
   },
   "outputs": [
    {
     "name": "stdout",
     "output_type": "stream",
     "text": [
      "F1_ad (Aspect Detection): 0.9307\n",
      "F1_sc (Sentiment Classification): 0.8845\n"
     ]
    }
   ],
   "source": [
    "# Kết quả cuối cùng\n",
    "\n",
    "f1_sc = np.mean(f1_sc_list) if f1_sc_list else 0\n",
    "\n",
    "print(f\"F1_ad (Aspect Detection): {f1_ad:.4f}\")\n",
    "print(f\"F1_sc (Sentiment Classification): {f1_sc:.4f}\")"
   ]
  },
  {
   "cell_type": "code",
   "execution_count": 14,
   "id": "1072f8f30f6caee9",
   "metadata": {
    "ExecuteTime": {
     "end_time": "2025-06-12T11:53:04.444228Z",
     "start_time": "2025-06-12T11:53:04.330453Z"
    }
   },
   "outputs": [
    {
     "data": {
      "image/png": "[encoded data removed]",
      "text/plain": [
       "<Figure size 600x400 with 2 Axes>"
      ]
     },
     "metadata": {},
     "output_type": "display_data"
    }
   ],
   "source": [
    "# Chọn 1 khía cạnh để minh họa (ví dụ: 'texture')\n",
    "# 'stayingpower', 'texture', 'smell', 'price', 'others', 'colour', 'shipping', 'packing'\n",
    "aspect = 'stayingpower'\n",
    "idx = aspects.index(aspect)\n",
    "mask = (y_pred_aspect[:, idx] == 1) & (y_test_sentiment[aspect] != -1)\n",
    "cm = confusion_matrix(y_test_sentiment[aspect][mask], y_pred_sentiment[mask, idx])\n",
    "\n",
    "plt.figure(figsize=(6, 4))\n",
    "sns.heatmap(cm, annot=True, fmt='d', cmap='Blues', xticklabels=['negative', 'neutral', 'positive'], yticklabels=['negative', 'neutral', 'positive'])\n",
    "plt.title(f'Confusion Matrix cho phân loại cảm xúc khía cạnh \"{aspect}\"')\n",
    "plt.xlabel('Dự đoán')\n",
    "plt.ylabel('Thực tế')\n",
    "plt.show()"
   ]
  }
 ],
 "metadata": {
  "kernelspec": {
   "display_name": "ABSA_Prompting",
   "language": "python",
   "name": "python3"
  },
  "language_info": {
   "codemirror_mode": {
    "name": "ipython",
    "version": 3
   },
   "file_extension": ".py",
   "mimetype": "text/x-python",
   "name": "python",
   "nbconvert_exporter": "python",
   "pygments_lexer": "ipython3",
   "version": "3.11.12"
  }
 },
 "nbformat": 4,
 "nbformat_minor": 5
}
