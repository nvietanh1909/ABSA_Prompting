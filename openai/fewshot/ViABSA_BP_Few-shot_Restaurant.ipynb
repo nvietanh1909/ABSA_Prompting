{
 "cells": [
  {
   "cell_type": "code",
   "execution_count": 1,
   "id": "bc359907",
   "metadata": {},
   "outputs": [
    {
     "name": "stderr",
     "output_type": "stream",
     "text": [
      "c:\\Users\\Admin\\Python\\ABSA_Prompting\\.venv\\Lib\\site-packages\\tqdm\\auto.py:21: TqdmWarning: IProgress not found. Please update jupyter and ipywidgets. See https://ipywidgets.readthedocs.io/en/stable/user_install.html\n",
      "  from .autonotebook import tqdm as notebook_tqdm\n"
     ]
    },
    {
     "name": "stdout",
     "output_type": "stream",
     "text": [
      "WARNING:tensorflow:From c:\\Users\\Admin\\Python\\ABSA_Prompting\\.venv\\Lib\\site-packages\\tf_keras\\src\\losses.py:2976: The name tf.losses.sparse_softmax_cross_entropy is deprecated. Please use tf.compat.v1.losses.sparse_softmax_cross_entropy instead.\n",
      "\n"
     ]
    }
   ],
   "source": [
    "from os import path\n",
    "import pandas as pd\n",
    "import numpy as np\n",
    "import json\n",
    "from openai import OpenAI\n",
    "from tqdm import tqdm\n",
    "from dotenv import load_dotenv\n",
    "from sklearn.cluster import KMeans\n",
    "from sklearn.metrics import pairwise_distances_argmin_min\n",
    "from sentence_transformers import SentenceTransformer\n",
    "from sklearn.metrics.pairwise import cosine_similarity\n",
    "import os\n",
    "\n",
    "DATA_DIR = r\"c:\\Users\\Admin\\Python\\ABSA_Prompting\\data\"\n",
    "RESULT_DIR = r\"c:\\Users\\Admin\\Python\\ABSA_Prompting\\results\"\n",
    "os.makedirs(DATA_DIR, exist_ok=True)\n",
    "os.makedirs(RESULT_DIR, exist_ok=True)"
   ]
  },
  {
   "cell_type": "code",
   "execution_count": 2,
   "id": "95bd1678",
   "metadata": {},
   "outputs": [],
   "source": [
    "# CONFIG\n",
    "ViABSA_BP_dir = path.join(DATA_DIR, 'ViABSA_Restaurant')\n",
    "test_file = path.join(ViABSA_BP_dir, 'data_test.csv')\n",
    "test_df = pd.read_csv(test_file)"
   ]
  },
  {
   "cell_type": "code",
   "execution_count": 3,
   "id": "5af38f82",
   "metadata": {},
   "outputs": [],
   "source": [
    "aspects = [\n",
    "   \"AMBIENCE#GENERAL\",\n",
    "   \"DRINKS#PRICES\",\n",
    "   \"DRINKS#QUALITY\",\n",
    "   \"DRINKS#STYLE&OPTIONS\",\n",
    "   \"FOOD#PRICES\",\n",
    "   \"FOOD#QUALITY\",\n",
    "   \"FOOD#STYLE&OPTIONS\",\n",
    "   \"LOCATION#GENERAL\",\n",
    "   \"RESTAURANT#GENERAL\",\n",
    "   \"RESTAURANT#MISCELLANEOUS\",\n",
    "   \"RESTAURANT#PRICES\",\n",
    "   \"SERVICE#GENERAL\"\n",
    "]"
   ]
  },
  {
   "cell_type": "code",
   "execution_count": 4,
   "id": "36c1154f",
   "metadata": {},
   "outputs": [],
   "source": [
    "sentiment_map = {\n",
    "    1: \"positive\",\n",
    "    2: \"negative\",\n",
    "    3: \"neutral\"\n",
    "}\n",
    "\n",
    "def transform_aspect_sentiment(df, start=0, end=None):\n",
    "    result = [] \n",
    "    \n",
    "    if end is None:\n",
    "        end = len(df)\n",
    "\n",
    "    for idx, row in df.iloc[start:end].iterrows():\n",
    "        entry = {\n",
    "            \"id\": str(idx),\n",
    "            \"text\": row['Review'],\n",
    "            \"sentiments\": []\n",
    "        }\n",
    "\n",
    "        for aspect in aspects:\n",
    "            sentiment = row[f\"{aspect}_label\"]\n",
    "            if sentiment == 1:  # chỉ lấy những cái có sentiment\n",
    "                aspect_sentiment_value = row[aspect]\n",
    "                mapped_sent = sentiment_map.get(aspect_sentiment_value, \"unknown\")\n",
    "                if aspect_sentiment_value != 'none':\n",
    "                    entry[\"sentiments\"].append({\n",
    "                        \"aspect\": aspect,\n",
    "                        \"sentiment\": mapped_sent\n",
    "                    })\n",
    "                else:\n",
    "                    # nếu cột sentiment text bị none nhưng label == 1 thì có thể log ra kiểm tra\n",
    "                    entry[\"sentiments\"].append({\n",
    "                        \"aspect\": aspect,\n",
    "                        \"sentiment\": \"unknown\"\n",
    "                    })\n",
    "\n",
    "        result.append(entry)\n",
    "\n",
    "    return result"
   ]
  },
  {
   "cell_type": "code",
   "execution_count": 5,
   "id": "c2b50b72",
   "metadata": {},
   "outputs": [
    {
     "data": {
      "text/plain": [
       "[{'id': '0',\n",
       "  'text': 'Đây là 1 trong những quán mà mình thích vì vị trà đậm và thơm cũng như mùi vị đặc trưng hơn hẳn những quán khác nè  Trà sữa trân châu sợi - 46k Trà sữa pha khá ngon, vị trà chát và mùi hương khá rõ, không quá ngọt, rất đúng với gu mình  Trà đào - 45k Vị trà đào ở đây cũng đặc biệt hơn hẳn những quán khác, không phải chua ngọt như thưởng thấy mà có mùi trà rất ngon  Cà phê đá xay - 65k Món đá xay ở đây uống cũng ngon không kém trà nè, mùi vị thơm hương cà phê, vị đắng kết hợp hoàn hảo với độ béo ngọt của whipping cream, không quá đắng, cũng không quá ngọt hay lạt lẽo mà dịu nhẹ, thơm và dễ uống lắm  Trà vải thiết quan âm - 45k Trà vải có mùi vị rất thơm ngon mùi vải mà vẫn nghe rõ vị trà, có chút vị chát nhẹ mùi trà thơm rất thích, không phải chỉ toàn vị syrup vải ngọt gắt như nhiều chỗ khác. Do trà ở đây pha khá đậm nên bạn nào uống mà đang đói sẽ dễ say nha, hoặc ban đêm có thể khó ngủ à, cảnh báo trước  Trà thiết quan âm latte - 47k Ly này thì vị trà rất đậm nên cảm giác hơi nhạt và chát, phần kem sữa bên trên béo béo uống chung thì vừa  Trà sữa 101 - 52k Ly này chụp ké chứ không có thử :v',\n",
       "  'sentiments': [{'aspect': 'DRINKS#PRICES', 'sentiment': 'neutral'},\n",
       "   {'aspect': 'DRINKS#QUALITY', 'sentiment': 'positive'},\n",
       "   {'aspect': 'DRINKS#STYLE&OPTIONS', 'sentiment': 'neutral'},\n",
       "   {'aspect': 'RESTAURANT#GENERAL', 'sentiment': 'positive'}]},\n",
       " {'id': '1',\n",
       "  'text': 'Bữa lướt facebook nhỏ bạn thấy có check-in ly trà sữa khổng lồ cùng viên phô mai to ú nụ. Mình bị hấp dẫn trong ngày từ cái nhìn đầu tiên nên đòi anh người yêu chở đi mua cho bằng được hihi. TRÀ SỮA 1ST TEA đ/c: 60D Nguyễn Thông, Q3 (ngay ngã 3 Kỳ Đồng và Nguyễn Thông) Mở cửa: 8h - 22h Facebook: 1ST TEA   Đây là ly size khổng lồ của quán. Dung tích theo mình nghĩ cỡ 1 lít chứ chẳng chơi. Hai đứa muốn ngập mặt tại chỗ.  Mình nói là ngon lắm nhưng không nghe. Tới khi ly trà sữa xuất hiện cùng 2 viên phô mai to ú nụ thì tranh giành check-in đầu tiên cho bằng được :))  Như mọi người thấy viên phô mai của quán to hơn bất kỳ quán nào khác. 1 viên theo mình nhớ giá chỉ có 9k thôi.  Với ly khổng lồ thì có mặc định sẵn có trân châu, muốn ăn thêm thạch khác có thể order thêm.  Mình tán mục sở thị viên phô mai cho mọi người thấy độ ú nụ dễ thương của em ấy. Việc múc bằng muỗng để múc phô mai khó lắm nha, to và nặng quá mà. Phô mai quán làm thơm vị sữa tươi và chút vị béo nhẹ. Ăn hoài không ngán. Ăn ngon tụi mình còn mua mỗi đứa thêm 1 viên nữa hihi. Noel không cần đi đâu quá xa, cứ như tụi mình làm ly trà sữa thơm ngon cùng viên phô mai tròn béo này là đủ hạnh phúc với 2 đứa rồi ahihi!',\n",
       "  'sentiments': [{'aspect': 'DRINKS#QUALITY', 'sentiment': 'positive'},\n",
       "   {'aspect': 'DRINKS#STYLE&OPTIONS', 'sentiment': 'positive'},\n",
       "   {'aspect': 'FOOD#PRICES', 'sentiment': 'positive'},\n",
       "   {'aspect': 'FOOD#QUALITY', 'sentiment': 'positive'},\n",
       "   {'aspect': 'FOOD#STYLE&OPTIONS', 'sentiment': 'positive'},\n",
       "   {'aspect': 'LOCATION#GENERAL', 'sentiment': 'neutral'},\n",
       "   {'aspect': 'RESTAURANT#MISCELLANEOUS', 'sentiment': 'neutral'}]},\n",
       " {'id': '2',\n",
       "  'text': 'Nghe phông phanh về trà sữa có viên phô mai to ú ù lâu rồi mà chưa có dịp đi thử. Thế là hôm qua cũng rảnh rỗi nên rủ tụi ‘cạ cứng’ đi uống thử. Đoán là viên phô mai chắc cũng to to, ai dè to thật, ăn một phát mà muốn ghiền luôn!  1st Tea 1st Tea trang trí chủ đạo là 3 tông màu trắng-xanh-vàng rất dễ thương Hình vẽ hoạt hình vui nhộn  … và dành hẳn cho bạn một góc chụp hình check-in   Menu quán khá đa dạng, phong phú, có các loại nước như: trà, trà sữa, macchiato, đá xay,… mà giá thì chỉ dao động từ 21K – 44K thôi. Tùy size, tùy loại nước uống mà bạn sẽ nhận được ly khác nhau, nhưng mà size nào thì ly cũng to cả Trà sữa phô mai ú ù – size M: 36K Mình thì mình ưng phô mai nên mình oder một ly trà sữa trân châu có viên phô mai bự-chà-bá. Thạch trân chân hoàng kim dai dai thơm thơm, trà sữa rất vừa uống. Matcha Macchiato – size M: 34K Việt quất phô mai đá xay – size S: 37K Nói là size S vậy thôi chứ ‘quất’ 1 ly thôi là no-cành-hông rồi đó. Nhóm tụi mình uống 4 ly mà chỉ có 143K thôi. Nhìn chung, so với mặt bằng chung trên thị trường trà sữa hiện nay thì giá như thế này là hợp lý lắm luôn! Mình với tụi bạn kết quán này lắm, cuối tuần tụ tập hoặc tấp vào trốn nắng một xíu thôi cũng thấy thoải mái rồi. Nhất định, mình sẽ ghé 1st Tea lần nữa, có ai đi với mình không ta?',\n",
       "  'sentiments': [{'aspect': 'AMBIENCE#GENERAL', 'sentiment': 'positive'},\n",
       "   {'aspect': 'DRINKS#PRICES', 'sentiment': 'positive'},\n",
       "   {'aspect': 'DRINKS#QUALITY', 'sentiment': 'positive'},\n",
       "   {'aspect': 'DRINKS#STYLE&OPTIONS', 'sentiment': 'positive'},\n",
       "   {'aspect': 'FOOD#STYLE&OPTIONS', 'sentiment': 'positive'},\n",
       "   {'aspect': 'RESTAURANT#GENERAL', 'sentiment': 'positive'}]},\n",
       " {'id': '3',\n",
       "  'text': 'Lại là mình tín đồ nghiện trà sữa đây, thấy quán trà sữa này có bán viên phô mai to ú nù nghe hấp dẫn quá chừng nên đi uống liền. Quán nằm ngay trung tâm giá cũng mềm, trang trí dễ thương, nhân viên nhiệt tình   Menu quán đơn giản chỉ vài món giá cũng rẻ so với mặt bằng trung tâm   Ly trà sữa 20k thêm phômai ú nù 15k  Phô mai ú nù siêu bự :)) thật ra như cục pudding hơn  Mùi béo thơm nhưng ko nghe mùi phômai đậm mà nghe mùi vani trứng, cũng ngon chứ ko dở  Trân châu hoàng kim 5k mềm thơm, vị trà sữa uống cũng được ko quá ngọt bình thường như những quán khác, nước nhiều đá ít nha  Trà đen macchiato 25k trà đậm ít đường ko ngọt lắm  Milkfoam bên trên ngon nè xài kem whipping đánh ra luôn nha, ngọt béo chứ ko phải mặn mình khá thích   Quán decor đơn giản tông vàng ấm áp Chúc các bạn ăn ngon miệng.',\n",
       "  'sentiments': [{'aspect': 'AMBIENCE#GENERAL', 'sentiment': 'positive'},\n",
       "   {'aspect': 'DRINKS#QUALITY', 'sentiment': 'positive'},\n",
       "   {'aspect': 'DRINKS#STYLE&OPTIONS', 'sentiment': 'neutral'},\n",
       "   {'aspect': 'FOOD#QUALITY', 'sentiment': 'positive'},\n",
       "   {'aspect': 'FOOD#STYLE&OPTIONS', 'sentiment': 'positive'},\n",
       "   {'aspect': 'LOCATION#GENERAL', 'sentiment': 'positive'},\n",
       "   {'aspect': 'RESTAURANT#PRICES', 'sentiment': 'positive'},\n",
       "   {'aspect': 'SERVICE#GENERAL', 'sentiment': 'positive'}]},\n",
       " {'id': '4',\n",
       "  'text': 'Không gian quán sang trọng khá đẹp mang phong cách Châu Âu, giá cả lại khá rẻ và món ăn cũng rất ngon, các món ăn được trang trí nhìn rất hấp dẫn, nhân viên phục vụ rất tốt.',\n",
       "  'sentiments': [{'aspect': 'AMBIENCE#GENERAL', 'sentiment': 'positive'},\n",
       "   {'aspect': 'FOOD#QUALITY', 'sentiment': 'positive'},\n",
       "   {'aspect': 'FOOD#STYLE&OPTIONS', 'sentiment': 'positive'},\n",
       "   {'aspect': 'RESTAURANT#PRICES', 'sentiment': 'positive'},\n",
       "   {'aspect': 'SERVICE#GENERAL', 'sentiment': 'positive'}]}]"
      ]
     },
     "execution_count": 5,
     "metadata": {},
     "output_type": "execute_result"
    }
   ],
   "source": [
    "# SETUP DATA\n",
    "test_df[aspects] = test_df[aspects].fillna('none')\n",
    "\n",
    "for aspect in aspects:\n",
    "    test_df[aspect + '_label'] = (test_df[aspect] != 0).astype(int)\n",
    "\n",
    "test_json = transform_aspect_sentiment(test_df, 0, 100)\n",
    "test_json[:5]"
   ]
  },
  {
   "cell_type": "code",
   "execution_count": 6,
   "id": "6375b5de",
   "metadata": {},
   "outputs": [
    {
     "name": "stderr",
     "output_type": "stream",
     "text": [
      "Batches: 100%|██████████| 16/16 [00:12<00:00,  1.29it/s]\n"
     ]
    },
    {
     "name": "stdout",
     "output_type": "stream",
     "text": [
      "Selected 3 diverse examples:\n",
      "\n",
      "Example 345:\n",
      "Món ăn ở đây thì ngon, nhưng giá cả hơi cao. Không gian thì rất ok, phục vụ cũng nhiệt tình, chỉ có mấy anh giữ xe là hơi chán. Nhưng nếu ai muốn thử một lần sang chảnh thì có thể đến đây để tận hưởng.   Bánh bí đỏ: 48k  Bánh cuốn chiên XO: 40k  Gỏi sò huyết: 98k  Lưỡi vị nướng: 139k  Vịt quay Bắc Kinh: 600k\n",
      "\n",
      "Example 74:\n",
      "Hôm bữa mình đi có đi ăn bánh Flan trên con đường này luôn, chạy qua thấy chỗ bán bánh đúc nên tấp vào ăn thử. Mặt tiền hơi nhỏ, để chừng 4 chiếc xe là hông có đường vô luôn, bên trong không gian sạch sẽ có bàn ngồi thoải mái, có bình trà đá miễn phí nữa :)   Một chén chỉ có 15k thôi mà thịt thà cũng khá nhiều ngập mặt chứ không ít đâu nha. Bột bánh ăn cũng bình thường thôi, không được dẻo cho lắm, ăn hết chén này là ngán luôn đó. Nhân có thịt bằm với nấm mèo thêm hành phi thơm thơm nữa, nước mắm cũng vừa ăn có phần hơi ngọt tí mà mình thấy vậy là ngon rồi.  Hành phi giòn rụm luôn nè mấy chế ơi :D Ớt cho bạn nào thích ăn cay Ngoài ra thấy menu còn có nhiều món cút lộn nên kêu thử Cút lộn xào bơ tỏi 20k/1 phần nha. Bên ngoài được áo một lớp bột giòn giòn, phần nước sốt nhiều bơ quá nên hơi ngấy mà được cái thơm nức mũi luôn. Mình thấy có cút lộn cuộn hoành thánh gì đó nữa mà bữa mình đi hết hoành thánh mới ghê @@ Nhìn chung thì quán ăn ngon, giá phải chăng mà chất lượng thì ok lắm, phục vụ nhiệt tình kêu chút xíu là có đồ ăn liền. Có bình trà đá miễn phí đó bạn nào muốn thì cứ tới lấy tự nhiên nha. Mọi người tham khảo thêm không gian ở dưới nha. Chúc các bạn ngon miệng.\n",
      "\n",
      "Example 283:\n",
      "Mình biết quán cà phê này cũng qua DDAU đăng tin nè, nhìn hình mà mê quá chừng luôn. Thế là cuối tuần quyết tâm đi cho bằng được. Hên sao quán ngần nhà mình, tuyệt vời luôn ấy. Mình khi tầm 15g hơi nắng nhẹ. Ấn tượng đầy tiên nhìn quán cà phê từ bên ngoài là khá rộng. Thoáng mát lắm nha. Nhìn như toà lâu đài vậy ah. Có cả hầm gửi xe luôn nè. Bước vô quán siêu nhiều cây cảnh, có hồ nước nhỏ nữa. Đặc biệt là siêu nhiều lối đi, mình hơi bỏ ngỡ lúc đầu, vì nhìu chỗ đẹp quá hổng biết đi đâu. Tụi mình quyết định đi lên lầu thăm quan trước rồi tìm chỗ cho mình, mém quên thác nước chảy từ tầng cao nhất xuống đất luôn nha siêu cao.  Ly bánh bèo của mình nè, hổng nhớ tên món này nữa huhu, mà uống tạm ah chớ không ngon lắm. Mình thấy vào đây muốn mí món nước đơn giản, chủ yếu chụp hình là chính thì ok.  Ly trà chanh của bạn mình, uống cũng ok nha.  Chụp 2 ly cho đủ cặp nè.  Lúc đọc menu tưởng có kem lạnh ở trên ai ngờ là loại này.  Quậy lên uống cho lẹ nha  Còn đây là cận cảnh miếng chanh decor bên dưới.  Ah thích đá chỗ này nghen, đá viên khá xịn  Ưng mỗi ly trà đá, uống thơm lắm nà   Chụp nhẹ khu mình ngồi nha.\n"
     ]
    }
   ],
   "source": [
    "'''\n",
    "    Nếu dùng TD-IDF thì sẽ chỉ chọn dựa vào tần suất từ, không hiểu nghĩa của câu -> bị trùng lặp\n",
    "    Semantic grouping để chọn example đa dạng về nội dung, không chỉ về các từ\n",
    "'''\n",
    "model = SentenceTransformer('all-MiniLM-L6-v2')\n",
    "embeddings = model.encode(test_df['Review'].tolist(), show_progress_bar=True)\n",
    "\n",
    "# KMeans clustering (70% đa dạng, 30% khó)\n",
    "n_total = 5\n",
    "n_diverse = int(n_total * 0.7)\n",
    "n_hard = n_total - n_diverse\n",
    "\n",
    "kmeans = KMeans(n_clusters=n_diverse, random_state=42, n_init=10)\n",
    "kmeans.fit(embeddings)\n",
    "\n",
    "# Lấy diverse example gần cluster centroid\n",
    "closest, _ = pairwise_distances_argmin_min(kmeans.cluster_centers_, embeddings)\n",
    "diverse_examples = test_df.iloc[closest]\n",
    "\n",
    "print(f\"Selected {len(diverse_examples)} diverse examples:\")\n",
    "for i, row in diverse_examples.iterrows():\n",
    "    print(f\"\\nExample {i}:\\n{row['Review']}\")"
   ]
  },
  {
   "cell_type": "code",
   "execution_count": 8,
   "id": "cd13a234",
   "metadata": {},
   "outputs": [
    {
     "name": "stdout",
     "output_type": "stream",
     "text": [
      "Selected 2 hard examples:\n",
      "\n",
      "Example 486:\n",
      "1 phần \"Gà lên mâm\" to cho 4 người gồm có: Gà ngũ vị, Gà xá xíu, Gà lá chanh, Gà muối ớt, Xôi nước cốt gà, Gỏi gà, Trứng non & Mề gà nước mắm. Mâm gà lúc dọn lên nhìn hấp dẫn và thơm lừng, nhưng mà đến lúc ăn thì thất vọng vô cùng. Xôi gà ko đậm mùi nước luộc gà, thịt gà món nào cũng khô, cứng và mặn, chỉ có gà lá chanh là tạm được. Gỏi gà là món tệ nhất vì nước trộn quá ngọt, rồi trộn xà lách chung với gỏi ăn nó cứ kỳ kỳ sao á. Phải chi gỏi chua hơn và trộn với bắp cải ko thôi là ngon rồi. Trứng non khô và nguội, mề gà ko gì đặc biệt. Nói chung trên mâm ko có món nào ngon, mấy dĩa sụn gà kêu riêng ăn còn được hơn nhiều. Ko biết mấy chỗ gà lên mâm khác thì sao chứ ko hiểu tại sao chỗ này đông dữ vậy luôn. Hình như ăn theo phong trào thôi hay sao á.\n",
      "\n",
      "Example 73:\n",
      "Hồi trước mình hay ăn bánh đúc Bà Già mà giờ nghỉ rồi, không biết có dời đi nơi khác không nữa, chỗ này mới mở sau này, cũng hay chạy qua đây nên ăn thử luôn cho biết.   Bánh đúc nóng có chả 18k/1 chén, nhân ngon lắm mà thịt hơi ít :)) chủ yếu là hành phi, đậu xanh với hành lá thôi, nước mắm pha vừa ăn. Phần bột thì hơi dẻo quá so với những nơi bán bánh khác, mình hông thích ăn bột dẻo như vậy lắm vì dẻo quá múc khó lên lắm :D   Mủ Trôm 10k/1 ngon, ngọt thanh không gắt, uống vô là thấy thanh mát liền hà :) Trời nóng mà làm một chai thì khỏi chê luôn :D  Sương sâm sương sáo 8k/ ly, bạn nào hông thích nước dừa thì nhớ dặn trước nha. Sương sâm giòn giòn ăn ngon, kết hợp thì với nước dừa béo béo là bá cháy :) Nhìn chung thì quán ăn ổn, bánh đúc cho tới nước uống ok, 18k/1 phần có chả cũng bình thường thôi chứ hông phải rẻ lắm. Không gian nho nhỏ chừng 10 cái bàn thôi, đi tối cuối tuần thì đông đó nha :) Mọi người cập nhật Menu và hình ảnh quán ở dưới nghen.\n"
     ]
    }
   ],
   "source": [
    "all_indices = np.arange(len(test_df))\n",
    "\n",
    "remaining_indices = list(set(all_indices) - set(closest))\n",
    "\n",
    "# Chọn ngẫu nhiên n_hard example từ phần còn lại \n",
    "hard_examples = test_df.iloc[remaining_indices].sample(n=n_hard, random_state=42)\n",
    "\n",
    "print(f\"Selected {len(hard_examples)} hard examples:\")\n",
    "for i, row in hard_examples.iterrows():\n",
    "    print(f\"\\nExample {i}:\\n{row['Review']}\")"
   ]
  },
  {
   "cell_type": "code",
   "execution_count": 9,
   "id": "25b00f21",
   "metadata": {},
   "outputs": [
    {
     "name": "stderr",
     "output_type": "stream",
     "text": [
      "Batches: 100%|██████████| 16/16 [00:12<00:00,  1.29it/s]\n"
     ]
    }
   ],
   "source": [
    "def select_few_shot_examples(df, text_column, n_total=5, model_name='all-MiniLM-L6-v2', random_state=42):\n",
    "    n_diverse = int(n_total * 0.7)\n",
    "    n_hard = n_total - n_diverse\n",
    "\n",
    "    model = SentenceTransformer(model_name)\n",
    "    embeddings = model.encode(df[text_column].tolist(), show_progress_bar=True)\n",
    "\n",
    "    kmeans = KMeans(n_clusters=n_diverse, random_state=random_state, n_init=10)\n",
    "    kmeans.fit(embeddings)\n",
    "\n",
    "    closest, _ = pairwise_distances_argmin_min(kmeans.cluster_centers_, embeddings)\n",
    "    diverse_df = df.iloc[closest]\n",
    "\n",
    "    all_indices = np.arange(len(df))\n",
    "    remaining_indices = list(set(all_indices) - set(closest))\n",
    "    hard_df = df.iloc[remaining_indices].sample(n=n_hard, random_state=random_state)\n",
    "\n",
    "    return diverse_df.reset_index(drop=True), hard_df.reset_index(drop=True)\n",
    "\n",
    "# SET-UP FEW-SHOT EXAMPLES\n",
    "diverse, hard = select_few_shot_examples(test_df, text_column='Review', n_total=5)\n",
    "\n",
    "few_shot_json =  transform_aspect_sentiment(diverse, 0, 100) + transform_aspect_sentiment(hard, 0, 100)\n"
   ]
  },
  {
   "cell_type": "code",
   "execution_count": 10,
   "id": "b3a5533d",
   "metadata": {},
   "outputs": [
    {
     "data": {
      "text/plain": [
       "[{'id': '0',\n",
       "  'text': 'Món ăn ở đây thì ngon, nhưng giá cả hơi cao. Không gian thì rất ok, phục vụ cũng nhiệt tình, chỉ có mấy anh giữ xe là hơi chán. Nhưng nếu ai muốn thử một lần sang chảnh thì có thể đến đây để tận hưởng.   Bánh bí đỏ: 48k  Bánh cuốn chiên XO: 40k  Gỏi sò huyết: 98k  Lưỡi vị nướng: 139k  Vịt quay Bắc Kinh: 600k',\n",
       "  'sentiments': [{'aspect': 'AMBIENCE#GENERAL', 'sentiment': 'positive'},\n",
       "   {'aspect': 'FOOD#PRICES', 'sentiment': 'negative'},\n",
       "   {'aspect': 'FOOD#QUALITY', 'sentiment': 'positive'},\n",
       "   {'aspect': 'SERVICE#GENERAL', 'sentiment': 'neutral'}]},\n",
       " {'id': '1',\n",
       "  'text': 'Hôm bữa mình đi có đi ăn bánh Flan trên con đường này luôn, chạy qua thấy chỗ bán bánh đúc nên tấp vào ăn thử. Mặt tiền hơi nhỏ, để chừng 4 chiếc xe là hông có đường vô luôn, bên trong không gian sạch sẽ có bàn ngồi thoải mái, có bình trà đá miễn phí nữa :)   Một chén chỉ có 15k thôi mà thịt thà cũng khá nhiều ngập mặt chứ không ít đâu nha. Bột bánh ăn cũng bình thường thôi, không được dẻo cho lắm, ăn hết chén này là ngán luôn đó. Nhân có thịt bằm với nấm mèo thêm hành phi thơm thơm nữa, nước mắm cũng vừa ăn có phần hơi ngọt tí mà mình thấy vậy là ngon rồi.  Hành phi giòn rụm luôn nè mấy chế ơi :D Ớt cho bạn nào thích ăn cay Ngoài ra thấy menu còn có nhiều món cút lộn nên kêu thử Cút lộn xào bơ tỏi 20k/1 phần nha. Bên ngoài được áo một lớp bột giòn giòn, phần nước sốt nhiều bơ quá nên hơi ngấy mà được cái thơm nức mũi luôn. Mình thấy có cút lộn cuộn hoành thánh gì đó nữa mà bữa mình đi hết hoành thánh mới ghê @@ Nhìn chung thì quán ăn ngon, giá phải chăng mà chất lượng thì ok lắm, phục vụ nhiệt tình kêu chút xíu là có đồ ăn liền. Có bình trà đá miễn phí đó bạn nào muốn thì cứ tới lấy tự nhiên nha. Mọi người tham khảo thêm không gian ở dưới nha. Chúc các bạn ngon miệng.',\n",
       "  'sentiments': [{'aspect': 'AMBIENCE#GENERAL', 'sentiment': 'neutral'},\n",
       "   {'aspect': 'DRINKS#PRICES', 'sentiment': 'positive'},\n",
       "   {'aspect': 'FOOD#PRICES', 'sentiment': 'positive'},\n",
       "   {'aspect': 'FOOD#QUALITY', 'sentiment': 'positive'},\n",
       "   {'aspect': 'FOOD#STYLE&OPTIONS', 'sentiment': 'positive'},\n",
       "   {'aspect': 'RESTAURANT#GENERAL', 'sentiment': 'positive'},\n",
       "   {'aspect': 'SERVICE#GENERAL', 'sentiment': 'positive'}]},\n",
       " {'id': '2',\n",
       "  'text': 'Mình biết quán cà phê này cũng qua DDAU đăng tin nè, nhìn hình mà mê quá chừng luôn. Thế là cuối tuần quyết tâm đi cho bằng được. Hên sao quán ngần nhà mình, tuyệt vời luôn ấy. Mình khi tầm 15g hơi nắng nhẹ. Ấn tượng đầy tiên nhìn quán cà phê từ bên ngoài là khá rộng. Thoáng mát lắm nha. Nhìn như toà lâu đài vậy ah. Có cả hầm gửi xe luôn nè. Bước vô quán siêu nhiều cây cảnh, có hồ nước nhỏ nữa. Đặc biệt là siêu nhiều lối đi, mình hơi bỏ ngỡ lúc đầu, vì nhìu chỗ đẹp quá hổng biết đi đâu. Tụi mình quyết định đi lên lầu thăm quan trước rồi tìm chỗ cho mình, mém quên thác nước chảy từ tầng cao nhất xuống đất luôn nha siêu cao.  Ly bánh bèo của mình nè, hổng nhớ tên món này nữa huhu, mà uống tạm ah chớ không ngon lắm. Mình thấy vào đây muốn mí món nước đơn giản, chủ yếu chụp hình là chính thì ok.  Ly trà chanh của bạn mình, uống cũng ok nha.  Chụp 2 ly cho đủ cặp nè.  Lúc đọc menu tưởng có kem lạnh ở trên ai ngờ là loại này.  Quậy lên uống cho lẹ nha  Còn đây là cận cảnh miếng chanh decor bên dưới.  Ah thích đá chỗ này nghen, đá viên khá xịn  Ưng mỗi ly trà đá, uống thơm lắm nà   Chụp nhẹ khu mình ngồi nha.',\n",
       "  'sentiments': [{'aspect': 'AMBIENCE#GENERAL', 'sentiment': 'positive'},\n",
       "   {'aspect': 'DRINKS#QUALITY', 'sentiment': 'neutral'},\n",
       "   {'aspect': 'DRINKS#STYLE&OPTIONS', 'sentiment': 'positive'},\n",
       "   {'aspect': 'LOCATION#GENERAL', 'sentiment': 'positive'}]},\n",
       " {'id': '0',\n",
       "  'text': '1 phần \"Gà lên mâm\" to cho 4 người gồm có: Gà ngũ vị, Gà xá xíu, Gà lá chanh, Gà muối ớt, Xôi nước cốt gà, Gỏi gà, Trứng non & Mề gà nước mắm. Mâm gà lúc dọn lên nhìn hấp dẫn và thơm lừng, nhưng mà đến lúc ăn thì thất vọng vô cùng. Xôi gà ko đậm mùi nước luộc gà, thịt gà món nào cũng khô, cứng và mặn, chỉ có gà lá chanh là tạm được. Gỏi gà là món tệ nhất vì nước trộn quá ngọt, rồi trộn xà lách chung với gỏi ăn nó cứ kỳ kỳ sao á. Phải chi gỏi chua hơn và trộn với bắp cải ko thôi là ngon rồi. Trứng non khô và nguội, mề gà ko gì đặc biệt. Nói chung trên mâm ko có món nào ngon, mấy dĩa sụn gà kêu riêng ăn còn được hơn nhiều. Ko biết mấy chỗ gà lên mâm khác thì sao chứ ko hiểu tại sao chỗ này đông dữ vậy luôn. Hình như ăn theo phong trào thôi hay sao á.',\n",
       "  'sentiments': [{'aspect': 'FOOD#QUALITY', 'sentiment': 'negative'},\n",
       "   {'aspect': 'FOOD#STYLE&OPTIONS', 'sentiment': 'positive'}]},\n",
       " {'id': '1',\n",
       "  'text': 'Hồi trước mình hay ăn bánh đúc Bà Già mà giờ nghỉ rồi, không biết có dời đi nơi khác không nữa, chỗ này mới mở sau này, cũng hay chạy qua đây nên ăn thử luôn cho biết.   Bánh đúc nóng có chả 18k/1 chén, nhân ngon lắm mà thịt hơi ít :)) chủ yếu là hành phi, đậu xanh với hành lá thôi, nước mắm pha vừa ăn. Phần bột thì hơi dẻo quá so với những nơi bán bánh khác, mình hông thích ăn bột dẻo như vậy lắm vì dẻo quá múc khó lên lắm :D   Mủ Trôm 10k/1 ngon, ngọt thanh không gắt, uống vô là thấy thanh mát liền hà :) Trời nóng mà làm một chai thì khỏi chê luôn :D  Sương sâm sương sáo 8k/ ly, bạn nào hông thích nước dừa thì nhớ dặn trước nha. Sương sâm giòn giòn ăn ngon, kết hợp thì với nước dừa béo béo là bá cháy :) Nhìn chung thì quán ăn ổn, bánh đúc cho tới nước uống ok, 18k/1 phần có chả cũng bình thường thôi chứ hông phải rẻ lắm. Không gian nho nhỏ chừng 10 cái bàn thôi, đi tối cuối tuần thì đông đó nha :) Mọi người cập nhật Menu và hình ảnh quán ở dưới nghen.',\n",
       "  'sentiments': [{'aspect': 'AMBIENCE#GENERAL', 'sentiment': 'neutral'},\n",
       "   {'aspect': 'DRINKS#PRICES', 'sentiment': 'neutral'},\n",
       "   {'aspect': 'DRINKS#QUALITY', 'sentiment': 'positive'},\n",
       "   {'aspect': 'FOOD#PRICES', 'sentiment': 'neutral'},\n",
       "   {'aspect': 'FOOD#QUALITY', 'sentiment': 'positive'},\n",
       "   {'aspect': 'FOOD#STYLE&OPTIONS', 'sentiment': 'negative'},\n",
       "   {'aspect': 'RESTAURANT#GENERAL', 'sentiment': 'positive'}]}]"
      ]
     },
     "execution_count": 10,
     "metadata": {},
     "output_type": "execute_result"
    }
   ],
   "source": [
    "few_shot_json[:10]"
   ]
  },
  {
   "cell_type": "code",
   "execution_count": 11,
   "id": "01cbff7f",
   "metadata": {},
   "outputs": [],
   "source": [
    "gpt_functions = [\n",
    "    {\n",
    "        \"name\": \"extract_aspect_sentiment\",\n",
    "        \"description\": \"Extract aspects and sentiments from text\",\n",
    "        \"parameters\": {\n",
    "            \"type\": \"object\",\n",
    "            \"properties\": {\n",
    "                \"results\": {\n",
    "                    \"type\": \"array\",\n",
    "                    \"items\": {\n",
    "                        \"type\": \"object\",\n",
    "                        \"properties\": {\n",
    "                            \"aspect\": {\n",
    "                                \"type\": \"string\",\n",
    "                                \"enum\": aspects\n",
    "                            },\n",
    "                            \"sentiment\": {\n",
    "                                \"type\": \"string\",\n",
    "                                \"enum\": [\"positive\", \"negative\", \"neutral\"]\n",
    "                            }\n",
    "                        },\n",
    "                        \"required\": [\"aspect\", \"sentiment\"]\n",
    "                    }\n",
    "                }\n",
    "            },\n",
    "            \"required\": [\"results\"]\n",
    "        }\n",
    "    }\n",
    "]"
   ]
  },
  {
   "cell_type": "code",
   "execution_count": 12,
   "id": "d9240381",
   "metadata": {},
   "outputs": [],
   "source": [
    "def evaluate_aspect_sentiment(ground_truth, predictions):\n",
    "    true_aspects = []\n",
    "    pred_aspects = []\n",
    "\n",
    "    true_aspect_sentiments = []\n",
    "    pred_aspect_sentiments = []\n",
    "\n",
    "    for gt_entry, pred_entry in zip(ground_truth, predictions):\n",
    "        gt_sents = gt_entry['sentiments']\n",
    "        gt_aspect_set = set()\n",
    "        gt_aspect_sentiment_set = set()\n",
    "\n",
    "        for item in gt_sents:\n",
    "            gt_aspect_set.add(item['aspect'])\n",
    "            gt_aspect_sentiment_set.add((item['aspect'], item['sentiment']))\n",
    "\n",
    "        true_aspects.append(gt_aspect_set)\n",
    "        true_aspect_sentiments.append(gt_aspect_sentiment_set)\n",
    "\n",
    "        pred_sents = pred_entry['results']\n",
    "        pred_aspect_set = set()\n",
    "        pred_aspect_sentiment_set = set()\n",
    "\n",
    "        for item in pred_sents:\n",
    "            pred_aspect_set.add(item['aspect'])\n",
    "            pred_aspect_sentiment_set.add((item['aspect'], item['sentiment']))\n",
    "\n",
    "        pred_aspects.append(pred_aspect_set)\n",
    "        pred_aspect_sentiments.append(pred_aspect_sentiment_set)\n",
    "\n",
    "    all_true_aspects = set.union(*true_aspects) if true_aspects else set()\n",
    "    all_pred_aspects = set.union(*pred_aspects) if pred_aspects else set()\n",
    "\n",
    "    tp_aspect = sum(len(gt & pred) for gt, pred in zip(true_aspects, pred_aspects))\n",
    "    fp_aspect = sum(len(pred - gt) for gt, pred in zip(true_aspects, pred_aspects))\n",
    "    fn_aspect = sum(len(gt - pred) for gt, pred in zip(true_aspects, pred_aspects))\n",
    "\n",
    "    precision_aspect = tp_aspect / (tp_aspect + fp_aspect + 1e-8)\n",
    "    recall_aspect = tp_aspect / (tp_aspect + fn_aspect + 1e-8)\n",
    "    f1_aspect = 2 * precision_aspect * recall_aspect / (precision_aspect + recall_aspect + 1e-8)\n",
    "\n",
    "    tp_sentiment = sum(len(gt & pred) for gt, pred in zip(true_aspect_sentiments, pred_aspect_sentiments))\n",
    "    fp_sentiment = sum(len(pred - gt) for gt, pred in zip(true_aspect_sentiments, pred_aspect_sentiments))\n",
    "    fn_sentiment = sum(len(gt - pred) for gt, pred in zip(true_aspect_sentiments, pred_aspect_sentiments))\n",
    "\n",
    "    precision_sentiment = tp_sentiment / (tp_sentiment + fp_sentiment + 1e-8)\n",
    "    recall_sentiment = tp_sentiment / (tp_sentiment + fn_sentiment + 1e-8)\n",
    "    f1_sentiment = 2 * precision_sentiment * recall_sentiment / (precision_sentiment + recall_sentiment + 1e-8)\n",
    "\n",
    "    return {\n",
    "        \"Aspect Detection F1\": f1_aspect,\n",
    "        \"Sentiment Classification F1\": f1_sentiment\n",
    "    }\n"
   ]
  },
  {
   "cell_type": "code",
   "execution_count": 13,
   "id": "6f28cf88",
   "metadata": {},
   "outputs": [
    {
     "name": "stderr",
     "output_type": "stream",
     "text": [
      "100%|██████████| 100/100 [07:27<00:00,  4.47s/it]\n"
     ]
    }
   ],
   "source": [
    "client = OpenAI()\n",
    "predictions = []\n",
    "\n",
    "# Tạo few-shot messages\n",
    "few_shot_messages = []\n",
    "for ex in few_shot_json:\n",
    "    few_shot_messages.append({\n",
    "        \"role\": \"user\",\n",
    "        \"content\": f\"Extract aspects and sentiments from the following review:\\n{ex['text']}\"\n",
    "    })\n",
    "    few_shot_messages.append({\n",
    "        \"role\": \"function\",\n",
    "        \"name\": \"extract_aspect_sentiment\",\n",
    "        \"content\": json.dumps({\"results\": ex[\"sentiments\"]})\n",
    "    })\n",
    "\n",
    "# Dự đoán\n",
    "for data in tqdm(test_json):\n",
    "    messages = [\n",
    "        {\"role\": \"system\", \"content\": \"You are an AI assistant that extracts aspects and their sentiments from text.\"},\n",
    "        *few_shot_messages,\n",
    "        {\"role\": \"user\", \"content\": f\"Extract aspects and sentiments from the following review:\\n{data['text']}\"}\n",
    "    ]\n",
    "    response = client.chat.completions.create(\n",
    "        model=\"gpt-4o\",\n",
    "        messages=messages,\n",
    "        functions=gpt_functions,\n",
    "        function_call={\"name\": \"extract_aspect_sentiment\"},\n",
    "        temperature=0\n",
    "    )\n",
    "\n",
    "    output = response.choices[0].message.function_call.arguments\n",
    "    parsed_output = json.loads(output)\n",
    "    predictions.append(parsed_output)"
   ]
  },
  {
   "cell_type": "code",
   "execution_count": 14,
   "id": "4a0c37d4",
   "metadata": {},
   "outputs": [
    {
     "name": "stdout",
     "output_type": "stream",
     "text": [
      "{'Aspect Detection F1': 0.7576099160858651, 'Sentiment Classification F1': 0.665916755409106}\n"
     ]
    }
   ],
   "source": [
    "scores = evaluate_aspect_sentiment(test_json, predictions)\n",
    "print(scores)"
   ]
  },
  {
   "cell_type": "code",
   "execution_count": 15,
   "id": "a1d4863b",
   "metadata": {},
   "outputs": [],
   "source": [
    "result_file = path.join(RESULT_DIR, 'ViABSA_BP_Few-shot-Restaurant-OpenAi.json')\n",
    "with open(result_file, 'w') as f:\n",
    "    json.dump(predictions, f, indent=4, ensure_ascii=False)"
   ]
  }
 ],
 "metadata": {
  "kernelspec": {
   "display_name": "ABSA_Prompting",
   "language": "python",
   "name": "python3"
  },
  "language_info": {
   "codemirror_mode": {
    "name": "ipython",
    "version": 3
   },
   "file_extension": ".py",
   "mimetype": "text/x-python",
   "name": "python",
   "nbconvert_exporter": "python",
   "pygments_lexer": "ipython3",
   "version": "3.11.12"
  }
 },
 "nbformat": 4,
 "nbformat_minor": 5
}
